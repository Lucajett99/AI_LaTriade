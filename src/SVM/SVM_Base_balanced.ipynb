{
  "cells": [
    {
      "cell_type": "code",
      "execution_count": null,
      "metadata": {
        "colab": {
          "base_uri": "https://localhost:8080/",
          "height": 129,
          "resources": {
            "http://localhost:8080/nbextensions/google.colab/files.js": {
              "data": "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",
              "headers": [
                [
                  "content-type",
                  "application/javascript"
                ]
              ],
              "ok": true,
              "status": 200,
              "status_text": ""
            }
          }
        },
        "id": "az9XrnVUs9t8",
        "outputId": "8487a489-316e-4866-bd76-e6ef496ae24d"
      },
      "outputs": [
        {
          "output_type": "display_data",
          "data": {
            "text/plain": [
              "<IPython.core.display.HTML object>"
            ],
            "text/html": [
              "\n",
              "     <input type=\"file\" id=\"files-32d860ad-db95-4ac3-93d0-c9c6ccab53d7\" name=\"files[]\" multiple disabled\n",
              "        style=\"border:none\" />\n",
              "     <output id=\"result-32d860ad-db95-4ac3-93d0-c9c6ccab53d7\">\n",
              "      Upload widget is only available when the cell has been executed in the\n",
              "      current browser session. Please rerun this cell to enable.\n",
              "      </output>\n",
              "      <script src=\"/nbextensions/google.colab/files.js\"></script> "
            ]
          },
          "metadata": {}
        },
        {
          "output_type": "stream",
          "name": "stdout",
          "text": [
            "Saving Coorti 2016-2018 estrazione 2020 02 21 per AI.xlsx to Coorti 2016-2018 estrazione 2020 02 21 per AI (1).xlsx\n",
            "User uploaded file \"Coorti 2016-2018 estrazione 2020 02 21 per AI.xlsx\" with length 6481955 bytes\n"
          ]
        }
      ],
      "source": [
        "from google.colab import files\n",
        "\n",
        "uploaded = files.upload()\n",
        "\n",
        "for fn in uploaded.keys():\n",
        "  print('User uploaded file \"{name}\" with length {length} bytes'.format(\n",
        "      name=fn, length=len(uploaded[fn])))"
      ]
    },
    {
      "cell_type": "code",
      "execution_count": null,
      "metadata": {
        "id": "7cdHPA3Gs_Py"
      },
      "outputs": [],
      "source": [
        "import pandas as pd\n",
        "import numpy as np\n",
        "\n",
        "#Read dataset\n",
        "features =  pd.read_excel(\"Coorti 2016-2018 estrazione 2020 02 21 per AI.xlsx\")"
      ]
    },
    {
      "cell_type": "markdown",
      "source": [
        "Rimpiazziamo i codici relativi a determinate feature con i nomi delle feature, così da poter utilizzare la funzione get_dummies() ed ottenere un one-hot-encoding"
      ],
      "metadata": {
        "id": "8vvS8CUBACBv"
      }
    },
    {
      "cell_type": "code",
      "source": [
        "features[\"Diploma_scuola_superiore\"] = features[\"Diploma_scuola_superiore\"].map({1: \"Classico\", 2: \"Scientifico\", 3: \"Linguistico\", 4: \"Magistrale\", 5: \"Artistico\", 6: \"Tecnico\", 7: \"Professionale\", 8: \"Altro_italiano\", 9: \"Estero\", 99: \"Non_disponibile\"})\n",
        "features[\"area_geografica_scuolasuperiore\"] = features[\"area_geografica_scuolasuperiore\"].map({1: \"Emilia_romagna\", 2: \"Nord\", 3: \"Centro\", 4: \"Sud_isole\", 5: \"Estero\", 99: \"Non_disponibile\"})\n",
        "features[\"area_geografica_residenza\"] = features[\"area_geografica_residenza\"].map({1: \"Emilia_romagna\", 2: \"Nord\", 3: \"Centro\", 4: \"Sud_isole\", 5: \"Estero\", 99: \"Non_disponibile\"})\n",
        "features[\"Ambito\"] = features[\"Ambito\"].map({1: \"Economia\", 2: \"Farmacia\", 3: \"Giurisprudenza\", 4: \"Ingegneria\", 5: \"Lingue\", 6: \"Medicina\", 7: \"Veterinaria\", 8: \"Psicologia\", 9: \"Scienze\", 10: \"Scienze_agroalimanetari\", 11: \"Scienze_educazione_formazione\", 12: \"Scienze_motorie\", 13: \"Scienze_politiche\", 14: \"Scienze_statistiche\", 15: \"Sociologia\", 16: \"Studi_umanistici\"})\n",
        "features = pd.get_dummies(features)"
      ],
      "metadata": {
        "id": "OGcTsdKW4ath"
      },
      "execution_count": null,
      "outputs": []
    },
    {
      "cell_type": "markdown",
      "source": [
        "Create and add age in DataFrame"
      ],
      "metadata": {
        "id": "8N4EhRYh-uOp"
      }
    },
    {
      "cell_type": "code",
      "source": [
        "from datetime import datetime, date\n",
        "import math\n",
        "\n",
        "def getAge(dataNascita, coorte):\n",
        "    ts = pd.to_datetime(str(dataNascita)) \n",
        "    born = ts.strftime('%d/%m/%Y')\n",
        "    born = datetime.strptime(born, \"%d/%m/%Y\").date()\n",
        "    date = \"31/12/\"+str(coorte)\n",
        "    dataAttuale = datetime.strptime(date, \"%d/%m/%Y\").date()\n",
        "    age = dataAttuale.year - born.year - ((dataAttuale.month, dataAttuale.day) < (born.month, born.day))\n",
        "    return age\n",
        "\n",
        "#add new column with NaN\n",
        "features[\"Eta\"] = np.nan\n",
        "\n",
        "for ind in features.index:\n",
        "    studente = features.loc[ind]\n",
        "    dataNascita = studente[\"DataNascita\"]\n",
        "    coorte = studente[\"Coorte\"]\n",
        "    #fill the new column with age \n",
        "    features.at[ind,'Eta'] = math.floor(getAge(dataNascita, coorte))\n",
        "\n"
      ],
      "metadata": {
        "id": "5Fy7zitJ2oQl"
      },
      "execution_count": null,
      "outputs": []
    },
    {
      "cell_type": "markdown",
      "source": [
        "Abbiamo sostituito i valori NaN della feature \"voto_scuola_superiore\" con la media. Inoltre sono state droppate le colonne non utili ai fini dell'addestramento, ed infine eliminate le tuple contente almeno un NaN"
      ],
      "metadata": {
        "id": "alLm_28YCL_c"
      }
    },
    {
      "cell_type": "code",
      "execution_count": null,
      "metadata": {
        "id": "_fh4JOyfs5_j"
      },
      "outputs": [],
      "source": [
        "mean_value = features['voto_scuola_superiore'].mean()\n",
        "features['voto_scuola_superiore'] = features['voto_scuola_superiore'].fillna(mean_value)\n",
        "features = features.drop('ID_Studente', axis = 1)\n",
        "features = features.drop('Classe_ISEE', axis = 1)\n",
        "features = features.drop('DataNascita', axis = 1)\n",
        "features = features.drop('Coorte', axis = 1)\n",
        "features = features.drop('OFA_superati', axis = 1)\n",
        "features = features.dropna()"
      ]
    },
    {
      "cell_type": "markdown",
      "source": [
        "Abbiamo bilanciato il dataset con approccio undersampling pareggiando il numero di dropout e non droput"
      ],
      "metadata": {
        "id": "V037CAROGtkC"
      }
    },
    {
      "cell_type": "code",
      "source": [
        "#BILANCIAMENTO 1\n",
        "\"\"\"\n",
        "#Data preprocessing\n",
        "dropout = pd.DataFrame()\n",
        "noDropout = pd.DataFrame()\n",
        "\n",
        "for ind in features.index:\n",
        "    studente = pd.DataFrame(features.loc[[ind]])\n",
        "    if features[\"Abbandoni\"][ind] == 1:\n",
        "        dropout = pd.concat([studente, dropout], ignore_index=True, axis = 0)\n",
        "    else:\n",
        "        noDropout = pd.concat([studente, noDropout], ignore_index=True, axis = 0)\n",
        "\n",
        "#Bilanciamento dataset\n",
        "final = pd.DataFrame()\n",
        "for ind in dropout.index:\n",
        "    studente_drop = pd.DataFrame(dropout.loc[[ind]])\n",
        "    studente_noDrop = pd.DataFrame(noDropout.loc[[ind]])\n",
        "    final = pd.concat([studente_drop, final], ignore_index=True, axis = 0)\n",
        "    final = pd.concat([studente_noDrop, final], ignore_index=True, axis = 0)\n",
        "\n",
        "features = final\n",
        "print(len(features))\n",
        "\"\"\""
      ],
      "metadata": {
        "id": "kW4alQuJFo2y",
        "colab": {
          "base_uri": "https://localhost:8080/",
          "height": 182
        },
        "outputId": "9d7894f2-b094-44fb-b000-36582e72f875"
      },
      "execution_count": null,
      "outputs": [
        {
          "output_type": "execute_result",
          "data": {
            "text/plain": [
              "'\\n#Data preprocessing\\ndropout = pd.DataFrame()\\nnoDropout = pd.DataFrame()\\n\\nfor ind in features.index:\\n    studente = pd.DataFrame(features.loc[[ind]])\\n    if features[\"Abbandoni\"][ind] == 1:\\n        dropout = pd.concat([studente, dropout], ignore_index=True, axis = 0)\\n    else:\\n        noDropout = pd.concat([studente, noDropout], ignore_index=True, axis = 0)\\n\\n#Bilanciamento dataset\\nfinal = pd.DataFrame()\\nfor ind in dropout.index:\\n    studente_drop = pd.DataFrame(dropout.loc[[ind]])\\n    studente_noDrop = pd.DataFrame(noDropout.loc[[ind]])\\n    final = pd.concat([studente_drop, final], ignore_index=True, axis = 0)\\n    final = pd.concat([studente_noDrop, final], ignore_index=True, axis = 0)\\n\\nfeatures = final\\nprint(len(features))\\n'"
            ],
            "application/vnd.google.colaboratory.intrinsic+json": {
              "type": "string"
            }
          },
          "metadata": {},
          "execution_count": 20
        }
      ]
    },
    {
      "cell_type": "markdown",
      "source": [
        "La seguente cella serve a prescindere dal tipo di bilanciamento "
      ],
      "metadata": {
        "id": "IdSFCSn_IR_3"
      }
    },
    {
      "cell_type": "code",
      "source": [
        "#Dividing the data into attributes and labels\n",
        "X = features.drop('Abbandoni', axis=1)\n",
        "y = features['Abbandoni']"
      ],
      "metadata": {
        "id": "S-C5bUF4IMKZ"
      },
      "execution_count": null,
      "outputs": []
    },
    {
      "cell_type": "code",
      "source": [
        "#BILANCIAMENTO 2\n",
        "from collections import Counter\n",
        "from sklearn.datasets import make_classification\n",
        "from imblearn.under_sampling import RandomUnderSampler\n",
        "\n",
        "#Resampling data\n",
        "rus = RandomUnderSampler(sampling_strategy = \"majority\", random_state=42)\n",
        "X_res, y_res = rus.fit_resample(X, y)\n",
        "print('Resampled dataset shape %s' % Counter(y_res))\n",
        "\n",
        "X = X_res\n",
        "y = y_res"
      ],
      "metadata": {
        "id": "vXjrFB8LHR9R",
        "colab": {
          "base_uri": "https://localhost:8080/"
        },
        "outputId": "7e03807c-2955-4719-d45c-98285fad2e8d"
      },
      "execution_count": null,
      "outputs": [
        {
          "output_type": "stream",
          "name": "stdout",
          "text": [
            "Resampled dataset shape Counter({0: 2093, 1: 2093})\n"
          ]
        }
      ]
    },
    {
      "cell_type": "code",
      "execution_count": null,
      "metadata": {
        "id": "mZCCtmEIUGif"
      },
      "outputs": [],
      "source": [
        "from sklearn.model_selection import train_test_split as tts\n",
        "#Dividing data into training and test sets\n",
        "X_train, X_test, y_train, y_test = tts(X, y, test_size = 0.20, random_state=42)"
      ]
    },
    {
      "cell_type": "markdown",
      "source": [
        "Creo il modello SVM"
      ],
      "metadata": {
        "id": "8wCo09EoObHQ"
      }
    },
    {
      "cell_type": "code",
      "execution_count": null,
      "metadata": {
        "id": "qWcXfKcqd-T6",
        "colab": {
          "base_uri": "https://localhost:8080/"
        },
        "outputId": "e941aabb-864d-4e6c-ec56-66bb5c64e213"
      },
      "outputs": [
        {
          "output_type": "stream",
          "name": "stdout",
          "text": [
            "Creating SVM Model\n",
            "\n"
          ]
        }
      ],
      "source": [
        "from sklearn import svm\n",
        "#Creating Support Vector Machine Model\n",
        "print(\"Creating SVM Model\\n\")\n",
        "svclassifier = svm.SVC(C=0.01, kernel='linear')"
      ]
    },
    {
      "cell_type": "markdown",
      "source": [
        "Avviamo l'addestramento del modello"
      ],
      "metadata": {
        "id": "u6caxQ7fN7oK"
      }
    },
    {
      "cell_type": "code",
      "execution_count": null,
      "metadata": {
        "id": "hx7SFFTSOJVT",
        "colab": {
          "base_uri": "https://localhost:8080/"
        },
        "outputId": "7a7c8869-b2cb-47a9-fb1f-35d441e40263"
      },
      "outputs": [
        {
          "output_type": "stream",
          "name": "stdout",
          "text": [
            "Training SVM Model\n",
            "\n"
          ]
        },
        {
          "output_type": "execute_result",
          "data": {
            "text/plain": [
              "SVC(C=0.01, kernel='linear')"
            ]
          },
          "metadata": {},
          "execution_count": 25
        }
      ],
      "source": [
        "#Training SVM Model\n",
        "print(\"Training SVM Model\\n\")\n",
        "svclassifier.fit(X_train, y_train)"
      ]
    },
    {
      "cell_type": "markdown",
      "source": [
        "Eseguiamo il modello con i set del test per verificare le predizioni"
      ],
      "metadata": {
        "id": "wrhch1GtOm5F"
      }
    },
    {
      "cell_type": "code",
      "execution_count": null,
      "metadata": {
        "id": "evhwIjN3eOkD",
        "colab": {
          "base_uri": "https://localhost:8080/"
        },
        "outputId": "2a62dea4-b65f-4d9e-d838-4a643760ec9c"
      },
      "outputs": [
        {
          "output_type": "stream",
          "name": "stdout",
          "text": [
            "Making prediction\n",
            "\n"
          ]
        }
      ],
      "source": [
        "#Making prediction\n",
        "print(\"Making prediction\\n\")\n",
        "y_pred = svclassifier.predict(X_test)"
      ]
    },
    {
      "cell_type": "markdown",
      "source": [
        "Stampa dei risultati"
      ],
      "metadata": {
        "id": "Y7z7MqrPOs6F"
      }
    },
    {
      "cell_type": "code",
      "execution_count": null,
      "metadata": {
        "id": "mac5RJojeROd",
        "colab": {
          "base_uri": "https://localhost:8080/"
        },
        "outputId": "873b480e-0ec2-49a6-d380-13612e5e1d34"
      },
      "outputs": [
        {
          "output_type": "stream",
          "name": "stdout",
          "text": [
            "Evaluating the Algorithm:\n",
            "\n",
            "true negative:  325\n",
            "false negative:  182\n",
            "true positive:  201\n",
            "false positive:  130\n",
            "              precision    recall  f1-score   support\n",
            "\n",
            "           0       0.64      0.71      0.68       455\n",
            "           1       0.61      0.52      0.56       383\n",
            "\n",
            "    accuracy                           0.63       838\n",
            "   macro avg       0.62      0.62      0.62       838\n",
            "weighted avg       0.63      0.63      0.62       838\n",
            "\n"
          ]
        }
      ],
      "source": [
        "from sklearn import metrics\n",
        "\n",
        "#Evaluating the Algorithm\n",
        "print(\"Evaluating the Algorithm:\\n\")\n",
        "tn, fp, fn, tp = metrics.confusion_matrix(y_test,y_pred).ravel()\n",
        "print(\"true negative: \", tn)\n",
        "print(\"false negative: \", fn)\n",
        "print(\"true positive: \", tp)\n",
        "print(\"false positive: \", fp)\n",
        "print(metrics.classification_report(y_test,y_pred))"
      ]
    },
    {
      "cell_type": "code",
      "execution_count": null,
      "metadata": {
        "id": "gTQPVnhmeVKr",
        "colab": {
          "base_uri": "https://localhost:8080/"
        },
        "outputId": "a46cf7f7-4d65-4d8b-99ba-9fb33941ece3"
      },
      "outputs": [
        {
          "output_type": "stream",
          "name": "stdout",
          "text": [
            "Evaluating Prediction Accuracy:\n",
            "\n",
            "Accuracy: 0.6276849642004774\n"
          ]
        }
      ],
      "source": [
        "#Evaluating Prediction Accuracy\n",
        "print(\"Evaluating Prediction Accuracy:\\n\")\n",
        "print(\"Accuracy:\", metrics.accuracy_score(y_test, y_pred))"
      ]
    }
  ],
  "metadata": {
    "accelerator": "GPU",
    "colab": {
      "collapsed_sections": [],
      "name": "SVM_Base_balanced.ipynb",
      "provenance": []
    },
    "kernelspec": {
      "display_name": "Python 3",
      "name": "python3"
    },
    "language_info": {
      "name": "python"
    },
    "gpuClass": "standard"
  },
  "nbformat": 4,
  "nbformat_minor": 0
}