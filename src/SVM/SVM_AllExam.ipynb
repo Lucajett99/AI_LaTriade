{
  "cells": [
    {
      "cell_type": "code",
      "execution_count": null,
      "metadata": {
        "colab": {
          "base_uri": "https://localhost:8080/",
          "height": 200,
          "resources": {
            "http://localhost:8080/nbextensions/google.colab/files.js": {
              "data": "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",
              "headers": [
                [
                  "content-type",
                  "application/javascript"
                ]
              ],
              "ok": true,
              "status": 200,
              "status_text": ""
            }
          }
        },
        "id": "az9XrnVUs9t8",
        "outputId": "2164c8b7-5f5c-4d20-b103-dbda94c7cf4a"
      },
      "outputs": [
        {
          "output_type": "display_data",
          "data": {
            "text/plain": [
              "<IPython.core.display.HTML object>"
            ],
            "text/html": [
              "\n",
              "     <input type=\"file\" id=\"files-80c25636-8e08-4515-a606-b787376ca074\" name=\"files[]\" multiple disabled\n",
              "        style=\"border:none\" />\n",
              "     <output id=\"result-80c25636-8e08-4515-a606-b787376ca074\">\n",
              "      Upload widget is only available when the cell has been executed in the\n",
              "      current browser session. Please rerun this cell to enable.\n",
              "      </output>\n",
              "      <script src=\"/nbextensions/google.colab/files.js\"></script> "
            ]
          },
          "metadata": {}
        },
        {
          "output_type": "stream",
          "name": "stdout",
          "text": [
            "Saving Coorti 2016-2018 estrazione 2020 02 21 per AI.xlsx to Coorti 2016-2018 estrazione 2020 02 21 per AI (1).xlsx\n",
            "Saving esami coorti 2016-2018 - 2020 02 21 per AI.xlsx to esami coorti 2016-2018 - 2020 02 21 per AI (1).xlsx\n",
            "User uploaded file \"Coorti 2016-2018 estrazione 2020 02 21 per AI.xlsx\" with length 6481955 bytes\n",
            "User uploaded file \"esami coorti 2016-2018 - 2020 02 21 per AI.xlsx\" with length 15391182 bytes\n"
          ]
        }
      ],
      "source": [
        "from google.colab import files\n",
        "\n",
        "uploaded = files.upload()\n",
        "\n",
        "for fn in uploaded.keys():\n",
        "  print('User uploaded file \"{name}\" with length {length} bytes'.format(\n",
        "      name=fn, length=len(uploaded[fn])))"
      ]
    },
    {
      "cell_type": "code",
      "execution_count": null,
      "metadata": {
        "id": "7cdHPA3Gs_Py"
      },
      "outputs": [],
      "source": [
        "import pandas as pd\n",
        "import numpy as np\n",
        "\n",
        "#Read dataset\n",
        "features =  pd.read_excel(\"Coorti 2016-2018 estrazione 2020 02 21 per AI.xlsx\")\n",
        "esami = pd.read_excel(\"esami coorti 2016-2018 - 2020 02 21 per AI.xlsx\")"
      ]
    },
    {
      "cell_type": "markdown",
      "source": [
        "Siamo interessati al totale dei CFU ottenuti e la media dei voti ottenuti"
      ],
      "metadata": {
        "id": "nL8bbgbaKi9o"
      }
    },
    {
      "cell_type": "code",
      "source": [
        "esami = esami.drop('Cod.Orientamento', axis=1)\n",
        "esami = esami.drop('Cod.Indirizzo', axis=1)\n",
        "esami = esami.drop('Cod.Materia', axis=1)\n",
        "esami = esami.drop('Materia', axis=1)\n",
        "esami = esami.drop('Giorno_esame', axis=1)"
      ],
      "metadata": {
        "id": "_E8vVCL2Kh6n"
      },
      "execution_count": null,
      "outputs": []
    },
    {
      "cell_type": "markdown",
      "source": [
        "Calcoliamo la somma dei CFU per ogni studente la mergiamo con i dati di ogni studente e i valori NaN dei CFU verranno rimpiazzati con 0"
      ],
      "metadata": {
        "id": "x1nNoAv8K9Ta"
      }
    },
    {
      "cell_type": "code",
      "source": [
        "tot_cfu = esami.groupby('ID_Studente')['CFUsuperati'].sum()\n",
        "features = features.merge(tot_cfu,how='outer', on='ID_Studente')\n",
        "features['CFUsuperati'] = features['CFUsuperati'].fillna(0)"
      ],
      "metadata": {
        "id": "w4Cx_Z0mKojL"
      },
      "execution_count": null,
      "outputs": []
    },
    {
      "cell_type": "markdown",
      "source": [
        "Calcoliamo la media di voti per ogni studente e la mergiamo con i dati di ogni studente e i valori NaN dei voti verranno rimpiazzati con 0"
      ],
      "metadata": {
        "id": "UtGxcnyxLO-Z"
      }
    },
    {
      "cell_type": "code",
      "source": [
        "esami = esami.drop('CFUsuperati', axis=1)\n",
        "esami = esami.dropna()\n",
        "media_voti = esami.groupby('ID_Studente')['Voto_se_numerico'].mean()\n",
        "features = features.merge(media_voti,how='outer', on='ID_Studente')\n",
        "features['Voto_se_numerico'] = features['Voto_se_numerico'].fillna(0)"
      ],
      "metadata": {
        "id": "wC3myGyFKr7q"
      },
      "execution_count": null,
      "outputs": []
    },
    {
      "cell_type": "markdown",
      "source": [
        "Rimpiazziamo i codici relativi a determinate feature con i nomi delle feature, così da poter utilizzare la funzione get_dummies() ed ottenere un one-hot-encoding"
      ],
      "metadata": {
        "id": "8vvS8CUBACBv"
      }
    },
    {
      "cell_type": "code",
      "source": [
        "features[\"Diploma_scuola_superiore\"] = features[\"Diploma_scuola_superiore\"].map({1: \"Classico\", 2: \"Scientifico\", 3: \"Linguistico\", 4: \"Magistrale\", 5: \"Artistico\", 6: \"Tecnico\", 7: \"Professionale\", 8: \"Altro_italiano\", 9: \"Estero\", 99: \"Non_disponibile\"})\n",
        "features[\"area_geografica_scuolasuperiore\"] = features[\"area_geografica_scuolasuperiore\"].map({1: \"Emilia_romagna\", 2: \"Nord\", 3: \"Centro\", 4: \"Sud_isole\", 5: \"Estero\", 99: \"Non_disponibile\"})\n",
        "features[\"area_geografica_residenza\"] = features[\"area_geografica_residenza\"].map({1: \"Emilia_romagna\", 2: \"Nord\", 3: \"Centro\", 4: \"Sud_isole\", 5: \"Estero\", 99: \"Non_disponibile\"})\n",
        "features[\"Ambito\"] = features[\"Ambito\"].map({1: \"Economia\", 2: \"Farmacia\", 3: \"Giurisprudenza\", 4: \"Ingegneria\", 5: \"Lingue\", 6: \"Medicina\", 7: \"Veterinaria\", 8: \"Psicologia\", 9: \"Scienze\", 10: \"Scienze_agroalimanetari\", 11: \"Scienze_educazione_formazione\", 12: \"Scienze_motorie\", 13: \"Scienze_politiche\", 14: \"Scienze_statistiche\", 15: \"Sociologia\", 16: \"Studi_umanistici\"})\n",
        "features = pd.get_dummies(features)"
      ],
      "metadata": {
        "id": "OGcTsdKW4ath"
      },
      "execution_count": null,
      "outputs": []
    },
    {
      "cell_type": "markdown",
      "source": [
        "Create and add age in DataFrame"
      ],
      "metadata": {
        "id": "8N4EhRYh-uOp"
      }
    },
    {
      "cell_type": "code",
      "source": [
        "from datetime import datetime, date\n",
        "\n",
        "def getAge(dataNascita, coorte):\n",
        "    ts = pd.to_datetime(str(dataNascita)) \n",
        "    born = ts.strftime('%d/%m/%Y')\n",
        "    born = datetime.strptime(born, \"%d/%m/%Y\").date()\n",
        "    date = \"31/12/\"+str(coorte)\n",
        "    dataAttuale = datetime.strptime(date, \"%d/%m/%Y\").date()\n",
        "    age = dataAttuale.year - born.year - ((dataAttuale.month, dataAttuale.day) < (born.month, born.day))\n",
        "    return age\n",
        "\n",
        "#add new column with NaN\n",
        "features[\"Eta\"] = np.nan\n",
        "\n",
        "for ind in features.index:\n",
        "    studente = features.loc[ind]\n",
        "    dataNascita = studente[\"DataNascita\"]\n",
        "    coorte = studente[\"Coorte\"]\n",
        "    #fill the new column with age \n",
        "    features.at[ind,'Eta'] = getAge(dataNascita, coorte)\n",
        "\n",
        "print(features)"
      ],
      "metadata": {
        "id": "5Fy7zitJ2oQl",
        "colab": {
          "base_uri": "https://localhost:8080/"
        },
        "outputId": "d0ffb051-1397-47c9-a5e3-8fc1e2ee8975"
      },
      "execution_count": null,
      "outputs": [
        {
          "output_type": "stream",
          "name": "stdout",
          "text": [
            "       ID_Studente  Coorte DataNascita  Genere  voto_scuola_superiore  \\\n",
            "0                1    2017  1998-02-26       1                   79.0   \n",
            "1                2    2016  1997-10-06       1                   75.0   \n",
            "2                3    2017  1986-08-29       1                   74.0   \n",
            "3                4    2017  1998-01-23       1                   63.0   \n",
            "4                5    2018  1999-07-04       2                   98.0   \n",
            "...            ...     ...         ...     ...                    ...   \n",
            "67275        67276    2016  1997-04-22       1                   83.0   \n",
            "67276        67277    2017  1998-01-08       1                  100.0   \n",
            "67277        67278    2016  1997-04-16       2                   75.0   \n",
            "67278        67279    2017  1995-10-28       2                    NaN   \n",
            "67279        67280    2016  1992-09-15       1                   65.0   \n",
            "\n",
            "       Classe_ISEE  Merito_ISEE  OFA_assegnati  OFA_superati   CdS  ...  \\\n",
            "0                5     36332.49              0             0  8514  ...   \n",
            "1                0          NaN              0             0  8513  ...   \n",
            "2                1          NaN              0             0  8871  ...   \n",
            "3                1          NaN              1             1  8766  ...   \n",
            "4                4     23492.63              0             0  9233  ...   \n",
            "...            ...          ...            ...           ...   ...  ...   \n",
            "67275            0          NaN              0             0  8610  ...   \n",
            "67276            4     27339.39              0             0  8415  ...   \n",
            "67277            0          NaN              1             0   915  ...   \n",
            "67278            1          NaN              0             0   901  ...   \n",
            "67279            0          NaN              0             0   956  ...   \n",
            "\n",
            "       Sede_BOLOGNA  Sede_CESENA  Sede_CESENATICO  Sede_FAENZA  Sede_FORLI'  \\\n",
            "0                 0            0                0            0            0   \n",
            "1                 1            0                0            0            0   \n",
            "2                 1            0                0            0            0   \n",
            "3                 0            0                0            0            0   \n",
            "4                 0            0                0            0            0   \n",
            "...             ...          ...              ...          ...          ...   \n",
            "67275             1            0                0            0            0   \n",
            "67276             1            0                0            0            0   \n",
            "67277             1            0                0            0            0   \n",
            "67278             1            0                0            0            0   \n",
            "67279             1            0                0            0            0   \n",
            "\n",
            "       Sede_IMOLA  Sede_OZZANO DELL'EMILIA  Sede_RAVENNA  Sede_RIMINI   Eta  \n",
            "0               0                        0             0            1  19.0  \n",
            "1               0                        0             0            0  19.0  \n",
            "2               0                        0             0            0  31.0  \n",
            "3               0                        0             0            1  19.0  \n",
            "4               0                        0             1            0  19.0  \n",
            "...           ...                      ...           ...          ...   ...  \n",
            "67275           0                        0             0            0  19.0  \n",
            "67276           0                        0             0            0  19.0  \n",
            "67277           0                        0             0            0  19.0  \n",
            "67278           0                        0             0            0  22.0  \n",
            "67279           0                        0             0            0  24.0  \n",
            "\n",
            "[67280 rows x 67 columns]\n"
          ]
        }
      ]
    },
    {
      "cell_type": "markdown",
      "source": [
        "Abbiamo sostituito i valori NaN della feature \"voto_scuola_superiore\" con la media. Inoltre sono state droppate le colonne non utili ai fini dell'addestramento, ed infine eliminate le tuple contente almeno un NaN"
      ],
      "metadata": {
        "id": "alLm_28YCL_c"
      }
    },
    {
      "cell_type": "code",
      "execution_count": null,
      "metadata": {
        "id": "_fh4JOyfs5_j"
      },
      "outputs": [],
      "source": [
        "mean_value = features['voto_scuola_superiore'].mean()\n",
        "features['voto_scuola_superiore'] = features['voto_scuola_superiore'].fillna(mean_value)\n",
        "features = features.drop('ID_Studente', axis = 1)\n",
        "features = features.drop('Classe_ISEE', axis = 1)\n",
        "features = features.drop('DataNascita', axis = 1)\n",
        "features = features.drop('Coorte', axis = 1)\n",
        "features = features.dropna()"
      ]
    },
    {
      "cell_type": "markdown",
      "source": [
        "Abbiamo bilanciato il dataset con approccio undersampling pareggiando il numero di dropout e non droput"
      ],
      "metadata": {
        "id": "V037CAROGtkC"
      }
    },
    {
      "cell_type": "code",
      "source": [
        "#BILANCIAMENTO 1\n",
        "#Data preprocessing\n",
        "dropout = pd.DataFrame()\n",
        "noDropout = pd.DataFrame()\n",
        "\n",
        "for ind in features.index:\n",
        "    studente = pd.DataFrame(features.loc[[ind]])\n",
        "    if features[\"Abbandoni\"][ind] == 1:\n",
        "        dropout = pd.concat([studente, dropout], ignore_index=True, axis = 0)\n",
        "    else:\n",
        "        noDropout = pd.concat([studente, noDropout], ignore_index=True, axis = 0)\n",
        "\n",
        "#Bilanciamento dataset\n",
        "final = pd.DataFrame()\n",
        "for ind in dropout.index:\n",
        "    studente_drop = pd.DataFrame(dropout.loc[[ind]])\n",
        "    studente_noDrop = pd.DataFrame(noDropout.loc[[ind]])\n",
        "    final = pd.concat([studente_drop, final], ignore_index=True, axis = 0)\n",
        "    final = pd.concat([studente_noDrop, final], ignore_index=True, axis = 0)\n",
        "\n",
        "features = final\n",
        "print(len(features))"
      ],
      "metadata": {
        "id": "kW4alQuJFo2y",
        "colab": {
          "base_uri": "https://localhost:8080/"
        },
        "outputId": "3797b65b-8be5-4dde-9d4e-bc69364e25b8"
      },
      "execution_count": null,
      "outputs": [
        {
          "output_type": "stream",
          "name": "stdout",
          "text": [
            "4186\n"
          ]
        }
      ]
    },
    {
      "cell_type": "markdown",
      "source": [
        "La seguente cella serve a prescindere dal tipo di bilanciamento "
      ],
      "metadata": {
        "id": "IdSFCSn_IR_3"
      }
    },
    {
      "cell_type": "code",
      "source": [
        "#Dividing the data into attributes and labels\n",
        "X = features.drop('Abbandoni', axis=1)\n",
        "y = features['Abbandoni']"
      ],
      "metadata": {
        "id": "S-C5bUF4IMKZ"
      },
      "execution_count": null,
      "outputs": []
    },
    {
      "cell_type": "code",
      "source": [
        "#BILANCIAMENTO 2\n",
        "\"\"\"\n",
        "from collections import Counter\n",
        "from sklearn.datasets import make_classification\n",
        "from imblearn.under_sampling import RandomUnderSampler\n",
        "\n",
        "#Resampling data\n",
        "rus = RandomUnderSampler(sampling_strategy = \"majority\", random_state=42)\n",
        "X_res, y_res = rus.fit_resample(X, y)\n",
        "print('Resampled dataset shape %s' % Counter(y_res))\n",
        "\n",
        "X = X_res\n",
        "y = y_res\n",
        "\"\"\""
      ],
      "metadata": {
        "id": "vXjrFB8LHR9R",
        "colab": {
          "base_uri": "https://localhost:8080/",
          "height": 91
        },
        "outputId": "199197ba-040f-43c3-ad97-cf53589ae58b"
      },
      "execution_count": null,
      "outputs": [
        {
          "output_type": "execute_result",
          "data": {
            "text/plain": [
              "'\\nfrom collections import Counter\\nfrom sklearn.datasets import make_classification\\nfrom imblearn.under_sampling import RandomUnderSampler\\n\\n#Resampling data\\nrus = RandomUnderSampler(sampling_strategy = \"majority\", random_state=42)\\nX_res, y_res = rus.fit_resample(X, y)\\nprint(\\'Resampled dataset shape %s\\' % Counter(y_res))\\n\\nX = X_res\\ny = y_res\\n'"
            ],
            "application/vnd.google.colaboratory.intrinsic+json": {
              "type": "string"
            }
          },
          "metadata": {},
          "execution_count": 28
        }
      ]
    },
    {
      "cell_type": "code",
      "execution_count": null,
      "metadata": {
        "id": "mZCCtmEIUGif"
      },
      "outputs": [],
      "source": [
        "from sklearn.model_selection import train_test_split as tts\n",
        "#Dividing data into training and test sets\n",
        "X_train, X_test, y_train, y_test = tts(X, y, test_size = 0.20, random_state=42)"
      ]
    },
    {
      "cell_type": "markdown",
      "metadata": {
        "id": "8wCo09EoObHQ"
      },
      "source": [
        "Creo il modello SVM"
      ]
    },
    {
      "cell_type": "code",
      "execution_count": null,
      "metadata": {
        "colab": {
          "base_uri": "https://localhost:8080/"
        },
        "id": "qWcXfKcqd-T6",
        "outputId": "14aa0015-5b2e-491c-eb71-353b327d7457"
      },
      "outputs": [
        {
          "output_type": "stream",
          "name": "stdout",
          "text": [
            "Creating SVM Model\n",
            "\n"
          ]
        }
      ],
      "source": [
        "from sklearn import svm\n",
        "#Creating Support Vector Machine Model\n",
        "print(\"Creating SVM Model\\n\")\n",
        "svclassifier = svm.SVC(C=0.01, kernel='linear')"
      ]
    },
    {
      "cell_type": "markdown",
      "metadata": {
        "id": "u6caxQ7fN7oK"
      },
      "source": [
        "Avviamo l'addestramento del modello"
      ]
    },
    {
      "cell_type": "code",
      "execution_count": null,
      "metadata": {
        "colab": {
          "base_uri": "https://localhost:8080/"
        },
        "id": "hx7SFFTSOJVT",
        "outputId": "a95cd2c0-d489-45eb-aa33-15a6e8662faf"
      },
      "outputs": [
        {
          "output_type": "stream",
          "name": "stdout",
          "text": [
            "Training SVM Model\n",
            "\n"
          ]
        },
        {
          "output_type": "execute_result",
          "data": {
            "text/plain": [
              "SVC(C=0.01, kernel='linear')"
            ]
          },
          "metadata": {},
          "execution_count": 31
        }
      ],
      "source": [
        "#Training SVM Model\n",
        "print(\"Training SVM Model\\n\")\n",
        "svclassifier.fit(X_train, y_train)"
      ]
    },
    {
      "cell_type": "markdown",
      "metadata": {
        "id": "wrhch1GtOm5F"
      },
      "source": [
        "Eseguiamo il modello con i set del test per verificare le predizioni"
      ]
    },
    {
      "cell_type": "code",
      "execution_count": null,
      "metadata": {
        "id": "evhwIjN3eOkD",
        "colab": {
          "base_uri": "https://localhost:8080/"
        },
        "outputId": "e88aaf03-df05-4bd3-ec03-288e710352c5"
      },
      "outputs": [
        {
          "output_type": "stream",
          "name": "stdout",
          "text": [
            "Making prediction\n",
            "\n"
          ]
        }
      ],
      "source": [
        "#Making prediction\n",
        "print(\"Making prediction\\n\")\n",
        "y_pred = svclassifier.predict(X_test)"
      ]
    },
    {
      "cell_type": "markdown",
      "metadata": {
        "id": "Y7z7MqrPOs6F"
      },
      "source": [
        "Stampa dei risultati"
      ]
    },
    {
      "cell_type": "code",
      "execution_count": null,
      "metadata": {
        "id": "mac5RJojeROd",
        "colab": {
          "base_uri": "https://localhost:8080/"
        },
        "outputId": "cb560215-695a-4182-e7aa-696bcd86cce6"
      },
      "outputs": [
        {
          "output_type": "stream",
          "name": "stdout",
          "text": [
            "Evaluating the Algorithm:\n",
            "\n",
            "true negative:  393\n",
            "false negative:  42\n",
            "true positive:  359\n",
            "false positive:  44\n",
            "              precision    recall  f1-score   support\n",
            "\n",
            "           0       0.90      0.90      0.90       437\n",
            "           1       0.89      0.90      0.89       401\n",
            "\n",
            "    accuracy                           0.90       838\n",
            "   macro avg       0.90      0.90      0.90       838\n",
            "weighted avg       0.90      0.90      0.90       838\n",
            "\n"
          ]
        }
      ],
      "source": [
        "from sklearn import metrics\n",
        "\n",
        "#Evaluating the Algorithm\n",
        "print(\"Evaluating the Algorithm:\\n\")\n",
        "tn, fp, fn, tp = metrics.confusion_matrix(y_test,y_pred).ravel()\n",
        "print(\"true negative: \", tn)\n",
        "print(\"false negative: \", fn)\n",
        "print(\"true positive: \", tp)\n",
        "print(\"false positive: \", fp)\n",
        "print(metrics.classification_report(y_test,y_pred))"
      ]
    },
    {
      "cell_type": "code",
      "execution_count": null,
      "metadata": {
        "id": "gTQPVnhmeVKr",
        "colab": {
          "base_uri": "https://localhost:8080/"
        },
        "outputId": "1b3da152-8b11-4a47-9536-d453b95facfc"
      },
      "outputs": [
        {
          "output_type": "stream",
          "name": "stdout",
          "text": [
            "Evaluating Prediction Accuracy:\n",
            "\n",
            "Accuracy: 0.8973747016706444\n"
          ]
        }
      ],
      "source": [
        "#Evaluating Prediction Accuracy\n",
        "print(\"Evaluating Prediction Accuracy:\\n\")\n",
        "print(\"Accuracy:\", metrics.accuracy_score(y_test, y_pred))"
      ]
    }
  ],
  "metadata": {
    "accelerator": "TPU",
    "colab": {
      "collapsed_sections": [],
      "name": "SVM_AllExam.ipynb",
      "provenance": []
    },
    "kernelspec": {
      "display_name": "Python 3",
      "name": "python3"
    },
    "language_info": {
      "name": "python"
    }
  },
  "nbformat": 4,
  "nbformat_minor": 0
}