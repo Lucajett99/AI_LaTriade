{
  "cells": [
    {
      "cell_type": "code",
      "execution_count": 1,
      "metadata": {
        "colab": {
          "base_uri": "https://localhost:8080/",
          "height": 143,
          "resources": {
            "http://localhost:8080/nbextensions/google.colab/files.js": {
              "data": "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",
              "headers": [
                [
                  "content-type",
                  "application/javascript"
                ]
              ],
              "ok": true,
              "status": 200,
              "status_text": ""
            }
          }
        },
        "id": "az9XrnVUs9t8",
        "outputId": "2b496587-4f0b-42f8-85fb-da7d88beba50"
      },
      "outputs": [
        {
          "data": {
            "text/html": [
              "\n",
              "     <input type=\"file\" id=\"files-44c4ca23-3da6-4523-84e2-2b6c0b3b95c2\" name=\"files[]\" multiple disabled\n",
              "        style=\"border:none\" />\n",
              "     <output id=\"result-44c4ca23-3da6-4523-84e2-2b6c0b3b95c2\">\n",
              "      Upload widget is only available when the cell has been executed in the\n",
              "      current browser session. Please rerun this cell to enable.\n",
              "      </output>\n",
              "      <script src=\"/nbextensions/google.colab/files.js\"></script> "
            ],
            "text/plain": [
              "<IPython.core.display.HTML object>"
            ]
          },
          "metadata": {},
          "output_type": "display_data"
        },
        {
          "name": "stdout",
          "output_type": "stream",
          "text": [
            "Saving Coorti 2016-2018 estrazione 2020 02 21 per AI.xlsx to Coorti 2016-2018 estrazione 2020 02 21 per AI.xlsx\n",
            "Saving esami coorti 2016-2018 - 2020 02 21 per AI.xlsx to esami coorti 2016-2018 - 2020 02 21 per AI.xlsx\n",
            "User uploaded file \"Coorti 2016-2018 estrazione 2020 02 21 per AI.xlsx\" with length 6481955 bytes\n",
            "User uploaded file \"esami coorti 2016-2018 - 2020 02 21 per AI.xlsx\" with length 15391182 bytes\n"
          ]
        }
      ],
      "source": [
        "from google.colab import files\n",
        "\n",
        "uploaded = files.upload()\n",
        "\n",
        "for fn in uploaded.keys():\n",
        "  print('User uploaded file \"{name}\" with length {length} bytes'.format(\n",
        "      name=fn, length=len(uploaded[fn])))"
      ]
    },
    {
      "cell_type": "code",
      "execution_count": 15,
      "metadata": {
        "id": "7cdHPA3Gs_Py"
      },
      "outputs": [],
      "source": [
        "import pandas as pd\n",
        "import numpy as np\n",
        "\n",
        "#Read dataset\n",
        "features =  pd.read_excel(\"Coorti 2016-2018 estrazione 2020 02 21 per AI.xlsx\")\n",
        "esami = pd.read_excel(\"esami coorti 2016-2018 - 2020 02 21 per AI.xlsx\")"
      ]
    },
    {
      "cell_type": "markdown",
      "metadata": {
        "id": "nL8bbgbaKi9o"
      },
      "source": [
        "Siamo interessati al totale dei CFU ottenuti e la media dei voti ottenuti, inoltre abbiamo tenuto soltanto quelli del primo semestre"
      ]
    },
    {
      "cell_type": "code",
      "execution_count": 16,
      "metadata": {
        "id": "_E8vVCL2Kh6n"
      },
      "outputs": [],
      "source": [
        "esami = esami.drop('Cod.Orientamento', axis=1)\n",
        "esami = esami.drop('Cod.Indirizzo', axis=1)\n",
        "esami = esami.drop('Cod.Materia', axis=1)\n",
        "esami = esami.drop('Materia', axis=1)\n",
        "index_name = esami[(esami['Giorno_esame'].dt.month > 2) & (esami['Giorno_esame'].dt.month < 11)].index\n",
        "esami.drop(index_name, inplace = True)"
      ]
    },
    {
      "cell_type": "markdown",
      "metadata": {
        "id": "x1nNoAv8K9Ta"
      },
      "source": [
        "Calcoliamo la somma dei CFU per ogni studente la mergiamo con i dati di ogni studente e i valori NaN dei CFU verranno rimpiazzati con 0"
      ]
    },
    {
      "cell_type": "code",
      "execution_count": 17,
      "metadata": {
        "id": "w4Cx_Z0mKojL"
      },
      "outputs": [],
      "source": [
        "tot_cfu = esami.groupby('ID_Studente')['CFUsuperati'].sum()\n",
        "features = features.merge(tot_cfu,how='outer', on='ID_Studente')\n",
        "features['CFUsuperati'] = features['CFUsuperati'].fillna(0)"
      ]
    },
    {
      "cell_type": "markdown",
      "metadata": {
        "id": "UtGxcnyxLO-Z"
      },
      "source": [
        "Calcoliamo la media di voti per ogni studente e la mergiamo con i dati di ogni studente e i valori NaN dei voti verranno rimpiazzati con 0"
      ]
    },
    {
      "cell_type": "code",
      "execution_count": 18,
      "metadata": {
        "id": "wC3myGyFKr7q"
      },
      "outputs": [],
      "source": [
        "esami = esami.drop('CFUsuperati', axis=1)\n",
        "esami = esami.dropna()\n",
        "media_voti = esami.groupby('ID_Studente')['Voto_se_numerico'].mean()\n",
        "features = features.merge(media_voti,how='outer', on='ID_Studente')\n",
        "features['Voto_se_numerico'] = features['Voto_se_numerico'].fillna(0)"
      ]
    },
    {
      "cell_type": "markdown",
      "metadata": {
        "id": "8vvS8CUBACBv"
      },
      "source": [
        "Rimpiazziamo i codici relativi a determinate feature con i nomi delle feature, così da poter utilizzare la funzione get_dummies() ed ottenere un one-hot-encoding"
      ]
    },
    {
      "cell_type": "code",
      "execution_count": 19,
      "metadata": {
        "id": "OGcTsdKW4ath"
      },
      "outputs": [],
      "source": [
        "features[\"Diploma_scuola_superiore\"] = features[\"Diploma_scuola_superiore\"].map({1: \"Classico\", 2: \"Scientifico\", 3: \"Linguistico\", 4: \"Magistrale\", 5: \"Artistico\", 6: \"Tecnico\", 7: \"Professionale\", 8: \"Altro_italiano\", 9: \"Estero\", 99: \"Non_disponibile\"})\n",
        "features[\"area_geografica_scuolasuperiore\"] = features[\"area_geografica_scuolasuperiore\"].map({1: \"Emilia_romagna\", 2: \"Nord\", 3: \"Centro\", 4: \"Sud_isole\", 5: \"Estero\", 99: \"Non_disponibile\"})\n",
        "features[\"area_geografica_residenza\"] = features[\"area_geografica_residenza\"].map({1: \"Emilia_romagna\", 2: \"Nord\", 3: \"Centro\", 4: \"Sud_isole\", 5: \"Estero\", 99: \"Non_disponibile\"})\n",
        "features[\"Ambito\"] = features[\"Ambito\"].map({1: \"Economia\", 2: \"Farmacia\", 3: \"Giurisprudenza\", 4: \"Ingegneria\", 5: \"Lingue\", 6: \"Medicina\", 7: \"Veterinaria\", 8: \"Psicologia\", 9: \"Scienze\", 10: \"Scienze_agroalimanetari\", 11: \"Scienze_educazione_formazione\", 12: \"Scienze_motorie\", 13: \"Scienze_politiche\", 14: \"Scienze_statistiche\", 15: \"Sociologia\", 16: \"Studi_umanistici\"})\n",
        "features = pd.get_dummies(features)"
      ]
    },
    {
      "cell_type": "code",
      "execution_count": 20,
      "metadata": {
        "id": "-MdY9AfjJGLy"
      },
      "outputs": [],
      "source": [
        "from datetime import datetime, date\n",
        "\n",
        "def getAge(dataNascita, coorte):\n",
        "    ts = pd.to_datetime(str(dataNascita)) \n",
        "    born = ts.strftime('%d/%m/%Y')\n",
        "    born = datetime.strptime(born, \"%d/%m/%Y\").date()\n",
        "    date = \"31/12/\"+str(coorte)\n",
        "    dataAttuale = datetime.strptime(date, \"%d/%m/%Y\").date()\n",
        "    age = dataAttuale.year - born.year - ((dataAttuale.month, dataAttuale.day) < (born.month, born.day))\n",
        "    return age\n",
        "\n",
        "#add new column with NaN\n",
        "features[\"Eta\"] = np.nan\n",
        "\n",
        "for ind in features.index:\n",
        "    studente = features.loc[ind]\n",
        "    dataNascita = studente[\"DataNascita\"]\n",
        "    coorte = studente[\"Coorte\"]\n",
        "    #fill the new column with age \n",
        "    features.at[ind,'Eta'] = getAge(dataNascita, coorte)\n"
      ]
    },
    {
      "cell_type": "markdown",
      "metadata": {
        "id": "Ox_L-BBOJDWs"
      },
      "source": [
        "Inoltre sono state droppate le colonne non utili ai fini dell'addestramento, ed infine eliminate le tuple contente almeno un NaN"
      ]
    },
    {
      "cell_type": "code",
      "execution_count": 21,
      "metadata": {
        "id": "_fh4JOyfs5_j"
      },
      "outputs": [],
      "source": [
        "mean_value = features['voto_scuola_superiore'].mean()\n",
        "features['voto_scuola_superiore'] = features['voto_scuola_superiore'].fillna(mean_value)\n",
        "features= features.drop('ID_Studente', axis = 1)\n",
        "features= features.drop('Classe_ISEE', axis = 1)\n",
        "features= features.drop('DataNascita', axis = 1)\n",
        "features = features.drop('Coorte', axis = 1)\n",
        "features = features.dropna()"
      ]
    },
    {
      "cell_type": "markdown",
      "metadata": {
        "id": "TYDtnE8UJQ0U"
      },
      "source": [
        "##Bilanciamento 1"
      ]
    },
    {
      "cell_type": "markdown",
      "metadata": {
        "id": "V037CAROGtkC"
      },
      "source": [
        "Abbiamo bilanciato il dataset con approccio downsampling pareggiando il numero di dropout e non droput"
      ]
    },
    {
      "cell_type": "code",
      "execution_count": 9,
      "metadata": {
        "colab": {
          "base_uri": "https://localhost:8080/"
        },
        "id": "kW4alQuJFo2y",
        "outputId": "dcf1829e-f241-45a1-f3ad-1c314bf859c1"
      },
      "outputs": [
        {
          "name": "stdout",
          "output_type": "stream",
          "text": [
            "4186\n"
          ]
        }
      ],
      "source": [
        "#Data preprocessing\n",
        "dropout = pd.DataFrame()\n",
        "noDropout = pd.DataFrame()\n",
        "\n",
        "for ind in features.index:\n",
        "    studente = pd.DataFrame(features.loc[[ind]])\n",
        "    if features[\"Abbandoni\"][ind] == 1:\n",
        "        dropout = pd.concat([studente, dropout], ignore_index=True, axis = 0)\n",
        "    else:\n",
        "        noDropout = pd.concat([studente, noDropout], ignore_index=True, axis = 0)\n",
        "\n",
        "#Bilanciamento dataset\n",
        "final = pd.DataFrame()\n",
        "for ind in dropout.index:\n",
        "    studente_drop = pd.DataFrame(dropout.loc[[ind]])\n",
        "    studente_noDrop = pd.DataFrame(noDropout.loc[[ind]])\n",
        "    final = pd.concat([studente_drop, final], ignore_index=True, axis = 0)\n",
        "    final = pd.concat([studente_noDrop, final], ignore_index=True, axis = 0)\n",
        "\n",
        "print(len(final))\n",
        "#Dividing the data into attributes and labels\n",
        "X = final.drop('Abbandoni', axis=1)\n",
        "y = final['Abbandoni']"
      ]
    },
    {
      "cell_type": "markdown",
      "metadata": {
        "id": "48OAoFh7JWv8"
      },
      "source": [
        "##Bilanciamento 2"
      ]
    },
    {
      "cell_type": "code",
      "execution_count": 22,
      "metadata": {
        "colab": {
          "base_uri": "https://localhost:8080/"
        },
        "id": "sK25aD8RJYEU",
        "outputId": "19af04ee-ea08-484d-8ad8-525f3e294741"
      },
      "outputs": [
        {
          "name": "stdout",
          "output_type": "stream",
          "text": [
            "Resampled dataset shape Counter({0: 2093, 1: 2093})\n"
          ]
        }
      ],
      "source": [
        "#Dividing the data into attributes and labels\n",
        "X = features.drop('Abbandoni', axis=1)\n",
        "y = features['Abbandoni']\n",
        "\n",
        "from collections import Counter\n",
        "from sklearn.datasets import make_classification\n",
        "from imblearn.under_sampling import RandomUnderSampler\n",
        "\n",
        "#Resampling data\n",
        "rus = RandomUnderSampler(sampling_strategy = \"majority\", random_state=42)\n",
        "X_res, y_res = rus.fit_resample(X, y)\n",
        "print('Resampled dataset shape %s' % Counter(y_res))\n",
        "\n",
        "X = X_res\n",
        "y = y_res"
      ]
    },
    {
      "cell_type": "markdown",
      "metadata": {
        "id": "fzrkQhPwqozv"
      },
      "source": [
        "# Algorithm"
      ]
    },
    {
      "cell_type": "markdown",
      "metadata": {
        "id": "utkRQwDWFzjk"
      },
      "source": [
        "Split the training testing set with a 10 % size and print the dimension of the data splitted\n",
        "Split arrays or matrices into random train and test subsets."
      ]
    },
    {
      "cell_type": "code",
      "execution_count": 23,
      "metadata": {
        "colab": {
          "base_uri": "https://localhost:8080/"
        },
        "id": "jolqxZND-MXi",
        "outputId": "e02fb89a-fad5-489e-cca0-b13ee2172dfb"
      },
      "outputs": [
        {
          "data": {
            "text/plain": [
              "((3348, 62), (838, 62), (3348,), (838,))"
            ]
          },
          "execution_count": 23,
          "metadata": {},
          "output_type": "execute_result"
        }
      ],
      "source": [
        "from sklearn import datasets\n",
        "from sklearn.model_selection import train_test_split\n",
        "from sklearn import linear_model\n",
        "from sklearn.metrics import mean_squared_error,r2_score\n",
        "from sklearn import metrics\n",
        "\n",
        "X_train,X_test,Y_train,Y_test = train_test_split(X,y,test_size=0.2,random_state = 42)\n",
        "X_train.shape,X_test.shape,Y_train.shape,Y_test.shape"
      ]
    },
    {
      "cell_type": "markdown",
      "metadata": {
        "id": "C-bCmPiIeS-E"
      },
      "source": [
        "Build a model and fit it with training test"
      ]
    },
    {
      "cell_type": "code",
      "execution_count": 24,
      "metadata": {
        "colab": {
          "base_uri": "https://localhost:8080/"
        },
        "id": "foC2yJiW-w06",
        "outputId": "1e3e25b4-ff85-4354-f94d-34a249c94ff9"
      },
      "outputs": [
        {
          "data": {
            "text/plain": [
              "LogisticRegression()"
            ]
          },
          "execution_count": 24,
          "metadata": {},
          "output_type": "execute_result"
        }
      ],
      "source": [
        "model = linear_model.LogisticRegression(max_iter=4000)\n",
        "model.fit(X_train,Y_train)"
      ]
    },
    {
      "cell_type": "markdown",
      "metadata": {
        "id": "d6TzkPh3GNj9"
      },
      "source": [
        "Predict a value in Y_pred using model defined previously"
      ]
    },
    {
      "cell_type": "code",
      "execution_count": 25,
      "metadata": {
        "id": "UPcuolsDAH0H"
      },
      "outputs": [],
      "source": [
        "Y_pred = model.predict(X_test)"
      ]
    },
    {
      "cell_type": "markdown",
      "metadata": {
        "id": "K82SzXgcquyD"
      },
      "source": [
        "#Evaluating"
      ]
    },
    {
      "cell_type": "code",
      "execution_count": 26,
      "metadata": {
        "colab": {
          "base_uri": "https://localhost:8080/"
        },
        "id": "HW8AxxHIBqAb",
        "outputId": "e7a58fea-e236-402a-c6e0-519fdacbdf82"
      },
      "outputs": [
        {
          "name": "stdout",
          "output_type": "stream",
          "text": [
            "Coefficients:  [[ 1.41965202e-01  3.52218675e-04 -3.58757486e-06  1.94563314e-01\n",
            "  -4.38662501e-02  1.05389459e-05  7.93045348e-02 -4.83659875e-02\n",
            "  -3.52408584e-02 -8.93445123e-02 -4.41842943e-02 -8.12371993e-04\n",
            "   1.28356879e-02 -3.67004137e-02 -4.94475529e-03  6.12489784e-03\n",
            "   9.38713835e-02 -1.41698759e-01  3.51193145e-02 -1.07067984e-02\n",
            "   1.06957611e-01  4.34683339e-02  1.79828599e-01 -5.09885671e-03\n",
            "  -1.36127583e-01  5.41646048e-02 -7.61893022e-02  2.63896032e-02\n",
            "   1.68395923e-01 -1.46343470e-02  0.00000000e+00  4.13164160e-02\n",
            "  -1.61421799e-01  4.19591722e-01 -4.18706549e-01  5.91606231e-02\n",
            "  -4.44668121e-02  3.09083132e-02  8.52180709e-02 -8.62352610e-02\n",
            "  -1.34992543e-02 -2.39436965e-02  7.56529963e-03  7.39937187e-02\n",
            "  -3.31027964e-02  2.11353594e-02 -3.86804062e-03 -3.19285844e-03\n",
            "   1.45203061e-02  2.03360180e-02  1.05660731e-02  4.11135664e-03\n",
            "   8.64613034e-02 -2.99369505e-03  1.00904718e-02 -1.92992301e-02\n",
            "  -4.65702371e-02 -4.82485181e-04 -5.97911512e-03 -7.92499190e-03\n",
            "   4.67437755e-02  3.64715401e-02]]\n",
            "Intercept:  [0.06005182]\n",
            "Mean Squared Error :0.21\n",
            "Coefficient of determination (R ^2): 0.16\n"
          ]
        }
      ],
      "source": [
        "print('Coefficients: ',model.coef_)\n",
        "print('Intercept: ',model.intercept_)\n",
        "print('Mean Squared Error :%.2f' % mean_squared_error(Y_test,Y_pred))\n",
        "print('Coefficient of determination (R ^2): %.2f' % r2_score(Y_test,Y_pred))"
      ]
    },
    {
      "cell_type": "markdown",
      "metadata": {
        "id": "Woq4SrCnqQd-"
      },
      "source": [
        "Evaluating the algorithm"
      ]
    },
    {
      "cell_type": "code",
      "execution_count": 27,
      "metadata": {
        "colab": {
          "base_uri": "https://localhost:8080/"
        },
        "id": "Rt3_-5hfqLQo",
        "outputId": "79941533-3853-47a8-ea58-ddef873e36a3"
      },
      "outputs": [
        {
          "name": "stdout",
          "output_type": "stream",
          "text": [
            "Evaluating the Algorithm:\n",
            "\n",
            "[[368  87]\n",
            " [ 88 295]]\n",
            "              precision    recall  f1-score   support\n",
            "\n",
            "           0       0.81      0.81      0.81       455\n",
            "           1       0.77      0.77      0.77       383\n",
            "\n",
            "    accuracy                           0.79       838\n",
            "   macro avg       0.79      0.79      0.79       838\n",
            "weighted avg       0.79      0.79      0.79       838\n",
            "\n",
            "true negative 368\n",
            "false negative 88\n",
            "true positive 295\n",
            "false positive 87\n",
            "\n",
            "Evaluating Prediction Accuracy:\n",
            "\n",
            "Accuracy: 0.7911694510739857\n"
          ]
        }
      ],
      "source": [
        "print(\"Evaluating the Algorithm:\\n\")\n",
        "cf_matrix = metrics.confusion_matrix(Y_test,Y_pred)\n",
        "print(cf_matrix)\n",
        "print(metrics.classification_report(Y_test,Y_pred))\n",
        "\n",
        "\n",
        "print(\"true negative\",cf_matrix[0,0])\n",
        "print(\"false negative\",cf_matrix[1,0])\n",
        "print(\"true positive\",cf_matrix[1,1])\n",
        "print(\"false positive\",cf_matrix[0,1])\n",
        "\n",
        "print(\"\\nEvaluating Prediction Accuracy:\\n\")\n",
        "print(\"Accuracy:\", metrics.accuracy_score(Y_test, Y_pred))"
      ]
    },
    {
      "cell_type": "code",
      "execution_count": null,
      "metadata": {
        "colab": {
          "base_uri": "https://localhost:8080/",
          "height": 307
        },
        "id": "rpyPmDyUF4AG",
        "outputId": "6e3be21f-c415-44e3-bce5-02adc6d137bb"
      },
      "outputs": [
        {
          "data": {
            "image/png": "[encoded data removed]",
            "text/plain": [
              "<Figure size 432x288 with 2 Axes>"
            ]
          },
          "metadata": {
            "needs_background": "light"
          },
          "output_type": "display_data"
        }
      ],
      "source": [
        "import seaborn as sns\n",
        "import matplotlib.pyplot as plt\n",
        "\n",
        "ax = sns.heatmap(cf_matrix, annot=True, cmap='Blues')\n",
        "\n",
        "ax.set_title('Confusion Matrix AVGExams');\n",
        "ax.set_xlabel('\\nPredicted Values')\n",
        "ax.set_ylabel('Real Values ');\n",
        "\n",
        "## Ticket labels - List must be in alphabetical order\n",
        "ax.xaxis.set_ticklabels(['False','True'])\n",
        "ax.yaxis.set_ticklabels(['False','True'])\n",
        "\n",
        "## Display the visualization of the Confusion Matrix.\n",
        "plt.show()"
      ]
    }
  ],
  "metadata": {
    "accelerator": "TPU",
    "colab": {
      "collapsed_sections": [],
      "name": "LR-AllExam_first_semester.ipynb",
      "provenance": []
    },
    "kernelspec": {
      "display_name": "Python 3",
      "name": "python3"
    },
    "language_info": {
      "name": "python"
    }
  },
  "nbformat": 4,
  "nbformat_minor": 0
}
