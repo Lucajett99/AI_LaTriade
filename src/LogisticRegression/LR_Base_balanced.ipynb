{
  "cells": [
    {
      "cell_type": "markdown",
      "metadata": {
        "id": "ZerzL89G8c0I"
      },
      "source": [
        "# Pre Processing"
      ]
    },
    {
      "cell_type": "code",
      "execution_count": 1,
      "metadata": {
        "colab": {
          "base_uri": "https://localhost:8080/",
          "height": 91,
          "resources": {
            "http://localhost:8080/nbextensions/google.colab/files.js": {
              "data": "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",
              "headers": [
                [
                  "content-type",
                  "application/javascript"
                ]
              ],
              "ok": true,
              "status": 200,
              "status_text": ""
            }
          }
        },
        "id": "az9XrnVUs9t8",
        "outputId": "28002954-bd18-4972-fc12-9a0324744b9e"
      },
      "outputs": [
        {
          "data": {
            "text/html": [
              "\n",
              "     <input type=\"file\" id=\"files-e3265b11-0bfc-4209-a636-d2fafdd103d0\" name=\"files[]\" multiple disabled\n",
              "        style=\"border:none\" />\n",
              "     <output id=\"result-e3265b11-0bfc-4209-a636-d2fafdd103d0\">\n",
              "      Upload widget is only available when the cell has been executed in the\n",
              "      current browser session. Please rerun this cell to enable.\n",
              "      </output>\n",
              "      <script src=\"/nbextensions/google.colab/files.js\"></script> "
            ],
            "text/plain": [
              "<IPython.core.display.HTML object>"
            ]
          },
          "metadata": {},
          "output_type": "display_data"
        },
        {
          "name": "stdout",
          "output_type": "stream",
          "text": [
            "Saving Coorti 2016-2018 estrazione 2020 02 21 per AI.xlsx to Coorti 2016-2018 estrazione 2020 02 21 per AI.xlsx\n",
            "User uploaded file \"Coorti 2016-2018 estrazione 2020 02 21 per AI.xlsx\" with length 6481955 bytes\n"
          ]
        }
      ],
      "source": [
        "from google.colab import files\n",
        "\n",
        "uploaded = files.upload()\n",
        "\n",
        "for fn in uploaded.keys():\n",
        "  print('User uploaded file \"{name}\" with length {length} bytes'.format(\n",
        "      name=fn, length=len(uploaded[fn])))"
      ]
    },
    {
      "cell_type": "code",
      "execution_count": 12,
      "metadata": {
        "id": "7cdHPA3Gs_Py"
      },
      "outputs": [],
      "source": [
        "import pandas as pd\n",
        "import numpy as np\n",
        "\n",
        "#Read dataset\n",
        "features =  pd.read_excel(\"Coorti 2016-2018 estrazione 2020 02 21 per AI.xlsx\")"
      ]
    },
    {
      "cell_type": "markdown",
      "metadata": {
        "id": "8vvS8CUBACBv"
      },
      "source": [
        "Replace code features with the name, to use get_dummies() function and obtain a one-hot-encoding"
      ]
    },
    {
      "cell_type": "code",
      "execution_count": 13,
      "metadata": {
        "id": "OGcTsdKW4ath"
      },
      "outputs": [],
      "source": [
        "features[\"Diploma_scuola_superiore\"] = features[\"Diploma_scuola_superiore\"].map({1: \"Classico\", 2: \"Scientifico\", 3: \"Linguistico\", 4: \"Magistrale\", 5: \"Artistico\", 6: \"Tecnico\", 7: \"Professionale\", 8: \"Altro_italiano\", 9: \"Estero\", 99: \"Non_disponibile\"})\n",
        "features[\"area_geografica_scuolasuperiore\"] = features[\"area_geografica_scuolasuperiore\"].map({1: \"Emilia_romagna\", 2: \"Nord\", 3: \"Centro\", 4: \"Sud_isole\", 5: \"Estero\", 99: \"Non_disponibile\"})\n",
        "features[\"area_geografica_residenza\"] = features[\"area_geografica_residenza\"].map({1: \"Emilia_romagna\", 2: \"Nord\", 3: \"Centro\", 4: \"Sud_isole\", 5: \"Estero\", 99: \"Non_disponibile\"})\n",
        "features[\"Ambito\"] = features[\"Ambito\"].map({1: \"Economia\", 2: \"Farmacia\", 3: \"Giurisprudenza\", 4: \"Ingegneria\", 5: \"Lingue\", 6: \"Medicina\", 7: \"Veterinaria\", 8: \"Psicologia\", 9: \"Scienze\", 10: \"Scienze_agroalimanetari\", 11: \"Scienze_educazione_formazione\", 12: \"Scienze_motorie\", 13: \"Scienze_politiche\", 14: \"Scienze_statistiche\", 15: \"Sociologia\", 16: \"Studi_umanistici\"})\n",
        "features = pd.get_dummies(features)"
      ]
    },
    {
      "cell_type": "markdown",
      "metadata": {
        "id": "alLm_28YCL_c"
      },
      "source": [
        "Abbiamo sostituito i valori NaN della feature \"voto_scuola_superiore\" con la media. Inoltre sono state droppate le colonne non utili ai fini dell'addestramento, ed infine eliminate le tuple contente almeno un NaN"
      ]
    },
    {
      "cell_type": "code",
      "execution_count": 14,
      "metadata": {
        "id": "5Z2H2cN_AYtc"
      },
      "outputs": [],
      "source": [
        "from datetime import datetime, date\n",
        "\n",
        "def getAge(dataNascita, coorte):\n",
        "    ts = pd.to_datetime(str(dataNascita)) \n",
        "    born = ts.strftime('%d/%m/%Y')\n",
        "    born = datetime.strptime(born, \"%d/%m/%Y\").date()\n",
        "    date = \"31/12/\"+str(coorte)\n",
        "    dataAttuale = datetime.strptime(date, \"%d/%m/%Y\").date()\n",
        "    age = dataAttuale.year - born.year - ((dataAttuale.month, dataAttuale.day) < (born.month, born.day))\n",
        "    return age\n",
        "\n",
        "#add new column with NaN\n",
        "features[\"Eta\"] = np.nan\n",
        "\n",
        "for ind in features.index:\n",
        "    studente = features.loc[ind]\n",
        "    dataNascita = studente[\"DataNascita\"]\n",
        "    coorte = studente[\"Coorte\"]\n",
        "    #fill the new column with age \n",
        "    features.at[ind,'Eta'] = getAge(dataNascita, coorte)\n"
      ]
    },
    {
      "cell_type": "code",
      "execution_count": 15,
      "metadata": {
        "id": "_fh4JOyfs5_j"
      },
      "outputs": [],
      "source": [
        "mean_value = features['voto_scuola_superiore'].mean()\n",
        "features['voto_scuola_superiore'] = features['voto_scuola_superiore'].fillna(mean_value)\n",
        "features= features.drop('ID_Studente', axis = 1)\n",
        "features= features.drop('Classe_ISEE', axis = 1)\n",
        "features= features.drop('DataNascita', axis = 1)\n",
        "features=features.drop('OFA_superati',axis=1)\n",
        "features = features.drop('Coorte', axis = 1)\n",
        "features = features.dropna()"
      ]
    },
    {
      "cell_type": "markdown",
      "metadata": {
        "id": "V037CAROGtkC"
      },
      "source": [
        "Abbiamo bilanciato il dataset con approccio downsampling pareggiando il numero di dropout e non droput"
      ]
    },
    {
      "cell_type": "markdown",
      "metadata": {
        "id": "zPWhoaeUA1bh"
      },
      "source": [
        "## Bilanciamento 1"
      ]
    },
    {
      "cell_type": "code",
      "execution_count": 16,
      "metadata": {
        "id": "kW4alQuJFo2y"
      },
      "outputs": [],
      "source": [
        "#Data preprocessing\n",
        "dropout = pd.DataFrame()\n",
        "noDropout = pd.DataFrame()\n",
        "\n",
        "for ind in features.index:\n",
        "    studente = pd.DataFrame(features.loc[[ind]])\n",
        "    if features[\"Abbandoni\"][ind] == 1:\n",
        "        dropout = pd.concat([studente, dropout], ignore_index=True, axis = 0)\n",
        "    else:\n",
        "        noDropout = pd.concat([studente, noDropout], ignore_index=True, axis = 0)\n",
        "\n",
        "#Bilanciamento dataset\n",
        "final = pd.DataFrame()\n",
        "for ind in dropout.index:\n",
        "    studente_drop = pd.DataFrame(dropout.loc[[ind]])\n",
        "    studente_noDrop = pd.DataFrame(noDropout.loc[[ind]])\n",
        "    final = pd.concat([studente_drop, final], ignore_index=True, axis = 0)\n",
        "    final = pd.concat([studente_noDrop, final], ignore_index=True, axis = 0)\n",
        "\n",
        "#Dividing the data into attributes and labels\n",
        "X = final.drop('Abbandoni', axis=1)\n",
        "y = final['Abbandoni']\n",
        "#Dividing data into training and test sets\n"
      ]
    },
    {
      "cell_type": "markdown",
      "metadata": {
        "id": "ExZ1IchGA9H0"
      },
      "source": [
        "##Bilanciamento 2"
      ]
    },
    {
      "cell_type": "code",
      "execution_count": 6,
      "metadata": {
        "colab": {
          "base_uri": "https://localhost:8080/"
        },
        "id": "DngblkcCAfU2",
        "outputId": "83f89f3e-a54e-4348-dd74-cd2a97c61621"
      },
      "outputs": [
        {
          "name": "stdout",
          "output_type": "stream",
          "text": [
            "Resampled dataset shape Counter({0: 2093, 1: 2093})\n"
          ]
        }
      ],
      "source": [
        "#Dividing the data into attributes and labels\n",
        "X = features.drop('Abbandoni', axis=1)\n",
        "y = features['Abbandoni']\n",
        "\n",
        "#BILANCIAMENTO 2\n",
        "from collections import Counter\n",
        "from sklearn.datasets import make_classification\n",
        "from imblearn.under_sampling import RandomUnderSampler\n",
        "\n",
        "#Resampling data\n",
        "rus = RandomUnderSampler(sampling_strategy = \"majority\", random_state=42)\n",
        "X_res, y_res = rus.fit_resample(X, y)\n",
        "print('Resampled dataset shape %s' % Counter(y_res))\n",
        "\n",
        "X = X_res\n",
        "y = y_res"
      ]
    },
    {
      "cell_type": "markdown",
      "metadata": {
        "id": "fzrkQhPwqozv"
      },
      "source": [
        "# Algorithm"
      ]
    },
    {
      "cell_type": "markdown",
      "metadata": {
        "id": "utkRQwDWFzjk"
      },
      "source": [
        "Split the training testing set with a 10 % size and print the dimension of the data splitted\n",
        "Split arrays or matrices into random train and test subsets."
      ]
    },
    {
      "cell_type": "code",
      "execution_count": 17,
      "metadata": {
        "colab": {
          "base_uri": "https://localhost:8080/"
        },
        "id": "jolqxZND-MXi",
        "outputId": "eb39dc5c-f515-470a-f359-a88b5da3724b"
      },
      "outputs": [
        {
          "data": {
            "text/plain": [
              "((3348, 59), (838, 59), (3348,), (838,))"
            ]
          },
          "execution_count": 17,
          "metadata": {},
          "output_type": "execute_result"
        }
      ],
      "source": [
        "from sklearn import datasets\n",
        "from sklearn.model_selection import train_test_split\n",
        "from sklearn import linear_model\n",
        "from sklearn.metrics import mean_squared_error,r2_score\n",
        "from sklearn import metrics\n",
        "\n",
        "\n",
        "X_train,X_test,Y_train,Y_test = train_test_split(X,y,test_size=0.2,random_state=42)\n",
        "X_train.shape,X_test.shape,Y_train.shape,Y_test.shape"
      ]
    },
    {
      "cell_type": "markdown",
      "metadata": {
        "id": "C-bCmPiIeS-E"
      },
      "source": [
        "Build a model and fit it with training test"
      ]
    },
    {
      "cell_type": "code",
      "execution_count": 18,
      "metadata": {
        "colab": {
          "base_uri": "https://localhost:8080/"
        },
        "id": "foC2yJiW-w06",
        "outputId": "f9984e7e-08ae-44c9-c35e-4419c0f122cf"
      },
      "outputs": [
        {
          "data": {
            "text/plain": [
              "LogisticRegression()"
            ]
          },
          "execution_count": 18,
          "metadata": {},
          "output_type": "execute_result"
        }
      ],
      "source": [
        "model = linear_model.LogisticRegression()\n",
        "model.fit(X_train,Y_train)"
      ]
    },
    {
      "cell_type": "markdown",
      "metadata": {
        "id": "d6TzkPh3GNj9"
      },
      "source": [
        "Predict a value in Y_pred using model defined previously"
      ]
    },
    {
      "cell_type": "code",
      "execution_count": 19,
      "metadata": {
        "id": "UPcuolsDAH0H"
      },
      "outputs": [],
      "source": [
        "Y_pred = model.predict(X_test)"
      ]
    },
    {
      "cell_type": "markdown",
      "metadata": {
        "id": "K82SzXgcquyD"
      },
      "source": [
        "#Evaluating"
      ]
    },
    {
      "cell_type": "code",
      "execution_count": 20,
      "metadata": {
        "colab": {
          "base_uri": "https://localhost:8080/"
        },
        "id": "HW8AxxHIBqAb",
        "outputId": "8dced2fb-ad39-4353-d07b-13f21dab4d56"
      },
      "outputs": [
        {
          "name": "stdout",
          "output_type": "stream",
          "text": [
            "Coefficients:  [[ 4.95114643e-04 -1.39327259e-02 -8.49112576e-06  6.79917909e-03\n",
            "   2.64440679e-05 -3.38274248e-04 -5.60631022e-04 -3.51222230e-04\n",
            "   1.38274181e-04  7.18093520e-04 -9.24928822e-04  2.88488196e-04\n",
            "  -6.92719222e-04  8.94466937e-04 -2.61971316e-03  1.70143627e-03\n",
            "  -1.69095598e-03  3.86299492e-03  6.74821058e-04  2.55702984e-03\n",
            "   3.14273782e-04 -2.61934498e-03  6.83440178e-04  6.52169591e-05\n",
            "   6.97925763e-05  3.45887798e-03  1.80365554e-04  0.00000000e+00\n",
            "   2.93743759e-04 -2.32734304e-03  8.07180416e-03 -6.83432562e-03\n",
            "   4.37958295e-04 -1.24806751e-03  8.01369193e-05  1.87804275e-03\n",
            "  -1.14498785e-04 -8.29841346e-04 -5.69617432e-04 -5.11022836e-04\n",
            "   2.98708324e-03 -1.19652471e-04 -6.37949250e-04 -2.44719658e-04\n",
            "  -1.69908221e-03  2.41058532e-04 -3.93833432e-04  2.84469889e-03\n",
            "   1.27014323e-05  3.37911131e-03 -6.16883622e-04  1.63375828e-04\n",
            "  -8.50226505e-05 -2.24045287e-03  2.53336264e-04 -1.50674396e-04\n",
            "   7.14817486e-04  2.57829483e-04  5.15343915e-02]]\n",
            "Intercept:  [0.00167544]\n",
            "Mean Squared Error :0.42\n",
            "Coefficient of determination (R ^2): -0.70\n"
          ]
        }
      ],
      "source": [
        "print('Coefficients: ',model.coef_)\n",
        "print('Intercept: ',model.intercept_)\n",
        "print('Mean Squared Error :%.2f' % mean_squared_error(Y_test,Y_pred))\n",
        "print('Coefficient of determination (R ^2): %.2f' % r2_score(Y_test,Y_pred))"
      ]
    },
    {
      "cell_type": "markdown",
      "metadata": {
        "id": "Woq4SrCnqQd-"
      },
      "source": [
        "Evaluating the algorithm"
      ]
    },
    {
      "cell_type": "markdown",
      "metadata": {
        "id": "WsCDK-O1vQQ0"
      },
      "source": [
        "we compute the confusion matrix, but it can't operate with continuos value, we must convert in [0,1].we say that any value in Y_pred above (0.6,1) convert to 1 otherwise 0"
      ]
    },
    {
      "cell_type": "code",
      "execution_count": 21,
      "metadata": {
        "colab": {
          "base_uri": "https://localhost:8080/"
        },
        "id": "Rt3_-5hfqLQo",
        "outputId": "3d4e9dbc-5ce1-454c-ebf2-d7f8533fd8ef"
      },
      "outputs": [
        {
          "name": "stdout",
          "output_type": "stream",
          "text": [
            "Evaluating the Algorithm:\n",
            "\n",
            "[[261 176]\n",
            " [179 222]]\n",
            "              precision    recall  f1-score   support\n",
            "\n",
            "           0       0.59      0.60      0.60       437\n",
            "           1       0.56      0.55      0.56       401\n",
            "\n",
            "    accuracy                           0.58       838\n",
            "   macro avg       0.58      0.58      0.58       838\n",
            "weighted avg       0.58      0.58      0.58       838\n",
            "\n",
            "true negative 261\n",
            "false negative 179\n",
            "true positive 222\n",
            "false positive 176\n",
            "\n",
            "Evaluating Prediction Accuracy:\n",
            "\n",
            "Accuracy: 0.5763723150357996\n"
          ]
        }
      ],
      "source": [
        "print(\"Evaluating the Algorithm:\\n\")\n",
        "cf_matrix = metrics.confusion_matrix(Y_test,Y_pred)\n",
        "print(cf_matrix)\n",
        "print(metrics.classification_report(Y_test,Y_pred))\n",
        "\n",
        "\n",
        "print(\"true negative\",cf_matrix[0,0])\n",
        "print(\"false negative\",cf_matrix[1,0])\n",
        "print(\"true positive\",cf_matrix[1,1])\n",
        "print(\"false positive\",cf_matrix[0,1])\n",
        "\n",
        "print(\"\\nEvaluating Prediction Accuracy:\\n\")\n",
        "print(\"Accuracy:\", metrics.accuracy_score(Y_test, Y_pred))"
      ]
    },
    {
      "cell_type": "code",
      "execution_count": null,
      "metadata": {
        "id": "rpyPmDyUF4AG"
      },
      "outputs": [],
      "source": [
        "import seaborn as sns\n",
        "import matplotlib.pyplot as plt\n",
        "ax = sns.heatmap(cf_matrix, annot=True, cmap='Blues')\n",
        "\n",
        "ax.set_title('Confusion Matrix AVGExams');\n",
        "ax.set_xlabel('\\nPredicted Values')\n",
        "ax.set_ylabel('Real Values ');\n",
        "\n",
        "## Ticket labels - List must be in alphabetical order\n",
        "ax.xaxis.set_ticklabels(['False','True'])\n",
        "ax.yaxis.set_ticklabels(['False','True'])\n",
        "\n",
        "## Display the visualization of the Confusion Matrix.\n",
        "plt.show()"
      ]
    }
  ],
  "metadata": {
    "accelerator": "TPU",
    "colab": {
      "collapsed_sections": [],
      "name": "LR-Base_balanced.ipynb",
      "provenance": []
    },
    "kernelspec": {
      "display_name": "Python 3",
      "name": "python3"
    },
    "language_info": {
      "name": "python"
    }
  },
  "nbformat": 4,
  "nbformat_minor": 0
}
