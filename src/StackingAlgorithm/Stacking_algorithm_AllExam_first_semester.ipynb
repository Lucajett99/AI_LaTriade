{
  "cells": [
    {
      "cell_type": "code",
      "execution_count": null,
      "metadata": {
        "colab": {
          "base_uri": "https://localhost:8080/",
          "height": 143,
          "resources": {
            "http://localhost:8080/nbextensions/google.colab/files.js": {
              "data": "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",
              "headers": [
                [
                  "content-type",
                  "application/javascript"
                ]
              ],
              "ok": true,
              "status": 200,
              "status_text": ""
            }
          }
        },
        "id": "az9XrnVUs9t8",
        "outputId": "ff77d8cf-e52a-45d8-e3c9-24108d9df203"
      },
      "outputs": [
        {
          "output_type": "display_data",
          "data": {
            "text/plain": [
              "<IPython.core.display.HTML object>"
            ],
            "text/html": [
              "\n",
              "     <input type=\"file\" id=\"files-cd49d86f-57d5-42ad-bf9d-6779d754f7ad\" name=\"files[]\" multiple disabled\n",
              "        style=\"border:none\" />\n",
              "     <output id=\"result-cd49d86f-57d5-42ad-bf9d-6779d754f7ad\">\n",
              "      Upload widget is only available when the cell has been executed in the\n",
              "      current browser session. Please rerun this cell to enable.\n",
              "      </output>\n",
              "      <script src=\"/nbextensions/google.colab/files.js\"></script> "
            ]
          },
          "metadata": {}
        },
        {
          "output_type": "stream",
          "name": "stdout",
          "text": [
            "Saving Coorti 2016-2018 estrazione 2020 02 21 per AI.xlsx to Coorti 2016-2018 estrazione 2020 02 21 per AI.xlsx\n",
            "Saving esami coorti 2016-2018 - 2020 02 21 per AI.xlsx to esami coorti 2016-2018 - 2020 02 21 per AI.xlsx\n",
            "User uploaded file \"Coorti 2016-2018 estrazione 2020 02 21 per AI.xlsx\" with length 6481955 bytes\n",
            "User uploaded file \"esami coorti 2016-2018 - 2020 02 21 per AI.xlsx\" with length 15391182 bytes\n"
          ]
        }
      ],
      "source": [
        "from google.colab import files\n",
        "\n",
        "uploaded = files.upload()\n",
        "\n",
        "for fn in uploaded.keys():\n",
        "  print('User uploaded file \"{name}\" with length {length} bytes'.format(\n",
        "      name=fn, length=len(uploaded[fn])))"
      ]
    },
    {
      "cell_type": "code",
      "execution_count": null,
      "metadata": {
        "id": "7cdHPA3Gs_Py"
      },
      "outputs": [],
      "source": [
        "import pandas as pd\n",
        "import numpy as np\n",
        "\n",
        "#Read dataset\n",
        "features =  pd.read_excel(\"Coorti 2016-2018 estrazione 2020 02 21 per AI.xlsx\")\n",
        "esami = pd.read_excel(\"esami coorti 2016-2018 - 2020 02 21 per AI.xlsx\")"
      ]
    },
    {
      "cell_type": "markdown",
      "metadata": {
        "id": "nL8bbgbaKi9o"
      },
      "source": [
        "Siamo interessati al totale dei CFU ottenuti e la media dei voti ottenuti, inoltre abbiamo tenuto soltanto quelli del primo semestre"
      ]
    },
    {
      "cell_type": "code",
      "execution_count": null,
      "metadata": {
        "id": "_E8vVCL2Kh6n"
      },
      "outputs": [],
      "source": [
        "esami = esami.drop('Cod.Orientamento', axis=1)\n",
        "esami = esami.drop('Cod.Indirizzo', axis=1)\n",
        "esami = esami.drop('Cod.Materia', axis=1)\n",
        "esami = esami.drop('Materia', axis=1)\n",
        "index_name = esami[(esami['Giorno_esame'].dt.month > 2) & (esami['Giorno_esame'].dt.month < 11)].index\n",
        "esami.drop(index_name, inplace = True)"
      ]
    },
    {
      "cell_type": "markdown",
      "metadata": {
        "id": "x1nNoAv8K9Ta"
      },
      "source": [
        "Calcoliamo la somma dei CFU per ogni studente la mergiamo con i dati di ogni studente e i valori NaN dei CFU verranno rimpiazzati con 0"
      ]
    },
    {
      "cell_type": "code",
      "execution_count": null,
      "metadata": {
        "id": "w4Cx_Z0mKojL"
      },
      "outputs": [],
      "source": [
        "tot_cfu = esami.groupby('ID_Studente')['CFUsuperati'].sum()\n",
        "features = features.merge(tot_cfu,how='outer', on='ID_Studente')\n",
        "features['CFUsuperati'] = features['CFUsuperati'].fillna(0)"
      ]
    },
    {
      "cell_type": "markdown",
      "metadata": {
        "id": "UtGxcnyxLO-Z"
      },
      "source": [
        "Calcoliamo la media di voti per ogni studente e la mergiamo con i dati di ogni studente e i valori NaN dei voti verranno rimpiazzati con 0"
      ]
    },
    {
      "cell_type": "code",
      "execution_count": null,
      "metadata": {
        "id": "wC3myGyFKr7q"
      },
      "outputs": [],
      "source": [
        "esami = esami.drop('CFUsuperati', axis=1)\n",
        "esami = esami.dropna()\n",
        "media_voti = esami.groupby('ID_Studente')['Voto_se_numerico'].mean()\n",
        "features = features.merge(media_voti,how='outer', on='ID_Studente')\n",
        "features['Voto_se_numerico'] = features['Voto_se_numerico'].fillna(0)"
      ]
    },
    {
      "cell_type": "markdown",
      "metadata": {
        "id": "8vvS8CUBACBv"
      },
      "source": [
        "Rimpiazziamo i codici relativi a determinate feature con i nomi delle feature, così da poter utilizzare la funzione get_dummies() ed ottenere un one-hot-encoding"
      ]
    },
    {
      "cell_type": "code",
      "execution_count": null,
      "metadata": {
        "id": "OGcTsdKW4ath"
      },
      "outputs": [],
      "source": [
        "features[\"Diploma_scuola_superiore\"] = features[\"Diploma_scuola_superiore\"].map({1: \"Classico\", 2: \"Scientifico\", 3: \"Linguistico\", 4: \"Magistrale\", 5: \"Artistico\", 6: \"Tecnico\", 7: \"Professionale\", 8: \"Altro_italiano\", 9: \"Estero\", 99: \"Non_disponibile\"})\n",
        "features[\"area_geografica_scuolasuperiore\"] = features[\"area_geografica_scuolasuperiore\"].map({1: \"Emilia_romagna\", 2: \"Nord\", 3: \"Centro\", 4: \"Sud_isole\", 5: \"Estero\", 99: \"Non_disponibile\"})\n",
        "features[\"area_geografica_residenza\"] = features[\"area_geografica_residenza\"].map({1: \"Emilia_romagna\", 2: \"Nord\", 3: \"Centro\", 4: \"Sud_isole\", 5: \"Estero\", 99: \"Non_disponibile\"})\n",
        "features[\"Ambito\"] = features[\"Ambito\"].map({1: \"Economia\", 2: \"Farmacia\", 3: \"Giurisprudenza\", 4: \"Ingegneria\", 5: \"Lingue\", 6: \"Medicina\", 7: \"Veterinaria\", 8: \"Psicologia\", 9: \"Scienze\", 10: \"Scienze_agroalimanetari\", 11: \"Scienze_educazione_formazione\", 12: \"Scienze_motorie\", 13: \"Scienze_politiche\", 14: \"Scienze_statistiche\", 15: \"Sociologia\", 16: \"Studi_umanistici\"})\n",
        "features = pd.get_dummies(features)"
      ]
    },
    {
      "cell_type": "markdown",
      "metadata": {
        "id": "8N4EhRYh-uOp"
      },
      "source": [
        "Create and add age in DataFrame"
      ]
    },
    {
      "cell_type": "code",
      "execution_count": null,
      "metadata": {
        "colab": {
          "base_uri": "https://localhost:8080/"
        },
        "id": "5Fy7zitJ2oQl",
        "outputId": "3e66be10-6178-4279-d87a-c03055a9f8c4"
      },
      "outputs": [
        {
          "output_type": "stream",
          "name": "stdout",
          "text": [
            "       ID_Studente  Coorte DataNascita  Genere  voto_scuola_superiore  \\\n",
            "0                1    2017  1998-02-26       1                   79.0   \n",
            "1                2    2016  1997-10-06       1                   75.0   \n",
            "2                3    2017  1986-08-29       1                   74.0   \n",
            "3                4    2017  1998-01-23       1                   63.0   \n",
            "4                5    2018  1999-07-04       2                   98.0   \n",
            "...            ...     ...         ...     ...                    ...   \n",
            "67275        67276    2016  1997-04-22       1                   83.0   \n",
            "67276        67277    2017  1998-01-08       1                  100.0   \n",
            "67277        67278    2016  1997-04-16       2                   75.0   \n",
            "67278        67279    2017  1995-10-28       2                    NaN   \n",
            "67279        67280    2016  1992-09-15       1                   65.0   \n",
            "\n",
            "       Classe_ISEE  Merito_ISEE  OFA_assegnati  OFA_superati   CdS  ...  \\\n",
            "0                5     36332.49              0             0  8514  ...   \n",
            "1                0          NaN              0             0  8513  ...   \n",
            "2                1          NaN              0             0  8871  ...   \n",
            "3                1          NaN              1             1  8766  ...   \n",
            "4                4     23492.63              0             0  9233  ...   \n",
            "...            ...          ...            ...           ...   ...  ...   \n",
            "67275            0          NaN              0             0  8610  ...   \n",
            "67276            4     27339.39              0             0  8415  ...   \n",
            "67277            0          NaN              1             0   915  ...   \n",
            "67278            1          NaN              0             0   901  ...   \n",
            "67279            0          NaN              0             0   956  ...   \n",
            "\n",
            "       Sede_BOLOGNA  Sede_CESENA  Sede_CESENATICO  Sede_FAENZA  Sede_FORLI'  \\\n",
            "0                 0            0                0            0            0   \n",
            "1                 1            0                0            0            0   \n",
            "2                 1            0                0            0            0   \n",
            "3                 0            0                0            0            0   \n",
            "4                 0            0                0            0            0   \n",
            "...             ...          ...              ...          ...          ...   \n",
            "67275             1            0                0            0            0   \n",
            "67276             1            0                0            0            0   \n",
            "67277             1            0                0            0            0   \n",
            "67278             1            0                0            0            0   \n",
            "67279             1            0                0            0            0   \n",
            "\n",
            "       Sede_IMOLA  Sede_OZZANO DELL'EMILIA  Sede_RAVENNA  Sede_RIMINI   Eta  \n",
            "0               0                        0             0            1  19.0  \n",
            "1               0                        0             0            0  19.0  \n",
            "2               0                        0             0            0  31.0  \n",
            "3               0                        0             0            1  19.0  \n",
            "4               0                        0             1            0  19.0  \n",
            "...           ...                      ...           ...          ...   ...  \n",
            "67275           0                        0             0            0  19.0  \n",
            "67276           0                        0             0            0  19.0  \n",
            "67277           0                        0             0            0  19.0  \n",
            "67278           0                        0             0            0  22.0  \n",
            "67279           0                        0             0            0  24.0  \n",
            "\n",
            "[67280 rows x 67 columns]\n"
          ]
        }
      ],
      "source": [
        "from datetime import datetime, date\n",
        "\n",
        "def getAge(dataNascita, coorte):\n",
        "    ts = pd.to_datetime(str(dataNascita)) \n",
        "    born = ts.strftime('%d/%m/%Y')\n",
        "    born = datetime.strptime(born, \"%d/%m/%Y\").date()\n",
        "    date = \"31/12/\"+str(coorte)\n",
        "    dataAttuale = datetime.strptime(date, \"%d/%m/%Y\").date()\n",
        "    age = dataAttuale.year - born.year - ((dataAttuale.month, dataAttuale.day) < (born.month, born.day))\n",
        "    return age\n",
        "\n",
        "#add new column with NaN\n",
        "features[\"Eta\"] = np.nan\n",
        "\n",
        "for ind in features.index:\n",
        "    studente = features.loc[ind]\n",
        "    dataNascita = studente[\"DataNascita\"]\n",
        "    coorte = studente[\"Coorte\"]\n",
        "    #fill the new column with age \n",
        "    features.at[ind,'Eta'] = getAge(dataNascita, coorte)\n",
        "\n",
        "print(features)"
      ]
    },
    {
      "cell_type": "markdown",
      "metadata": {
        "id": "alLm_28YCL_c"
      },
      "source": [
        "Abbiamo sostituito i valori NaN della feature \"voto_scuola_superiore\" con la media. Inoltre sono state droppate le colonne non utili ai fini dell'addestramento, ed infine eliminate le tuple contente almeno un NaN"
      ]
    },
    {
      "cell_type": "code",
      "execution_count": null,
      "metadata": {
        "id": "_fh4JOyfs5_j"
      },
      "outputs": [],
      "source": [
        "mean_value = features['voto_scuola_superiore'].mean()\n",
        "features['voto_scuola_superiore'] = features['voto_scuola_superiore'].fillna(mean_value)\n",
        "features = features.drop('ID_Studente', axis = 1)\n",
        "features = features.drop('Classe_ISEE', axis = 1)\n",
        "features = features.drop('DataNascita', axis = 1)\n",
        "features = features.drop('Coorte', axis = 1)\n",
        "features = features.dropna()"
      ]
    },
    {
      "cell_type": "markdown",
      "source": [
        "La seguente cella serve a prescindere dal tipo di bilanciamento "
      ],
      "metadata": {
        "id": "IdSFCSn_IR_3"
      }
    },
    {
      "cell_type": "code",
      "source": [
        "#Dividing the data into attributes and labels\n",
        "X = features.drop('Abbandoni', axis=1)\n",
        "y = features['Abbandoni']"
      ],
      "metadata": {
        "id": "S-C5bUF4IMKZ"
      },
      "execution_count": null,
      "outputs": []
    },
    {
      "cell_type": "markdown",
      "source": [
        "Abbiamo bilanciato il dataset con approccio undersampling pareggiando il numero di dropout e non droput"
      ],
      "metadata": {
        "id": "V037CAROGtkC"
      }
    },
    {
      "cell_type": "code",
      "source": [
        "#BILANCIAMENTO 2\n",
        "from collections import Counter\n",
        "from sklearn.datasets import make_classification\n",
        "from imblearn.under_sampling import RandomUnderSampler\n",
        "\n",
        "#Resampling data\n",
        "rus = RandomUnderSampler(sampling_strategy = \"majority\", random_state=42)\n",
        "X_res, y_res = rus.fit_resample(X, y)\n",
        "print('Resampled dataset shape %s' % Counter(y_res))\n",
        "\n",
        "X = X_res\n",
        "y = y_res"
      ],
      "metadata": {
        "id": "vXjrFB8LHR9R",
        "colab": {
          "base_uri": "https://localhost:8080/"
        },
        "outputId": "2921a550-f190-4129-a3cd-d4a284da2231"
      },
      "execution_count": null,
      "outputs": [
        {
          "output_type": "stream",
          "name": "stdout",
          "text": [
            "Resampled dataset shape Counter({0: 2093, 1: 2093})\n"
          ]
        }
      ]
    },
    {
      "cell_type": "code",
      "execution_count": null,
      "metadata": {
        "id": "mZCCtmEIUGif"
      },
      "outputs": [],
      "source": [
        "from sklearn.model_selection import train_test_split as tts\n",
        "#Dividing data into training and test sets\n",
        "X_train, X_test, y_train, y_test = tts(X, y, test_size = 0.20, random_state=42)"
      ]
    },
    {
      "cell_type": "code",
      "source": [
        "from sklearn.svm import SVC\n",
        "from sklearn.linear_model import LogisticRegression\n",
        "from sklearn.ensemble import RandomForestClassifier, StackingClassifier\n",
        "\n",
        "def get_stacking():\n",
        "\t# define the base models\n",
        "\tlevel0 = list()\n",
        "\tlevel0.append(('rf', RandomForestClassifier(n_estimators=207, random_state=42)))\n",
        "\tlevel0.append(('svm', SVC(C=0.01, kernel='linear')))\n",
        "\tlevel0.append(('lr', LogisticRegression(max_iter=4000)))\n",
        "\t# define meta learner model\n",
        "\tlevel1 = LogisticRegression()\n",
        "\t# define the stacking ensemble\n",
        "\tmodel = StackingClassifier(estimators=level0, final_estimator=level1, cv=5)\n",
        "\treturn model"
      ],
      "metadata": {
        "id": "t5LZjPwY3_G9"
      },
      "execution_count": null,
      "outputs": []
    },
    {
      "cell_type": "code",
      "source": [
        "# get a list of models to evaluate\n",
        "def get_models():\n",
        "\tmodels = dict()\n",
        "\tmodels['lr'] = LogisticRegression(max_iter=4000)\n",
        "\tmodels['svm'] = SVC(C=0.01, kernel='linear')\n",
        "\tmodels['rf'] = RandomForestClassifier(n_estimators=207, random_state=42)\n",
        "\tmodels['stacking'] = get_stacking()\n",
        "\treturn models"
      ],
      "metadata": {
        "id": "WUNiY14E9UkD"
      },
      "execution_count": null,
      "outputs": []
    },
    {
      "cell_type": "code",
      "source": [
        "from sklearn import metrics\n",
        "\n",
        "def evaluate(model, test_features, test_labels):\n",
        "    predictions = model.predict(test_features)\n",
        "    tn, fp, fn, tp = metrics.confusion_matrix(test_labels, predictions).ravel()\n",
        "    accuracy = metrics.accuracy_score(test_labels, predictions)\n",
        "    classification_report = metrics.classification_report(test_labels, predictions)\n",
        "    print(\"Model Performance \",model, \":\")\n",
        "    print(\"true negative: \", tn)\n",
        "    print(\"false negative: \", fn)\n",
        "    print(\"true positive: \", tp)\n",
        "    print(\"false positive: \", fp)\n",
        "    print(\"Classification report:\\n\", classification_report)\n",
        "    print(\"Accuracy:\", accuracy)\n",
        "    print(\"\\n\\n\")\n",
        "    return accuracy"
      ],
      "metadata": {
        "id": "-8DgAd3m-B-Y"
      },
      "execution_count": null,
      "outputs": []
    },
    {
      "cell_type": "code",
      "source": [
        "models = get_models()\n",
        "results, names = list(), list()\n",
        "for name, model in models.items():\n",
        "  model.fit(X_train, y_train)\n",
        "  accuracy = evaluate(model, X_test, y_test)\n",
        "  results.append(accuracy)\n",
        "  names.append(name)\n",
        "print(\"\\n\\n\")\n",
        "print(name, accuracy)"
      ],
      "metadata": {
        "colab": {
          "base_uri": "https://localhost:8080/"
        },
        "id": "Zsg_RN7G-FD7",
        "outputId": "4469ddbf-7195-4ac9-be69-37c7309d5f76"
      },
      "execution_count": null,
      "outputs": [
        {
          "output_type": "stream",
          "name": "stdout",
          "text": [
            "Model Performance  LogisticRegression(max_iter=4000) :\n",
            "true negative:  368\n",
            "false negative:  88\n",
            "true positive:  295\n",
            "false positive:  87\n",
            "Classification report:\n",
            "               precision    recall  f1-score   support\n",
            "\n",
            "           0       0.81      0.81      0.81       455\n",
            "           1       0.77      0.77      0.77       383\n",
            "\n",
            "    accuracy                           0.79       838\n",
            "   macro avg       0.79      0.79      0.79       838\n",
            "weighted avg       0.79      0.79      0.79       838\n",
            "\n",
            "Accuracy: 0.7911694510739857\n",
            "\n",
            "\n",
            "\n",
            "Model Performance  SVC(C=0.01, kernel='linear') :\n",
            "true negative:  378\n",
            "false negative:  104\n",
            "true positive:  279\n",
            "false positive:  77\n",
            "Classification report:\n",
            "               precision    recall  f1-score   support\n",
            "\n",
            "           0       0.78      0.83      0.81       455\n",
            "           1       0.78      0.73      0.76       383\n",
            "\n",
            "    accuracy                           0.78       838\n",
            "   macro avg       0.78      0.78      0.78       838\n",
            "weighted avg       0.78      0.78      0.78       838\n",
            "\n",
            "Accuracy: 0.7840095465393795\n",
            "\n",
            "\n",
            "\n",
            "Model Performance  RandomForestClassifier(n_estimators=207, random_state=42) :\n",
            "true negative:  361\n",
            "false negative:  88\n",
            "true positive:  295\n",
            "false positive:  94\n",
            "Classification report:\n",
            "               precision    recall  f1-score   support\n",
            "\n",
            "           0       0.80      0.79      0.80       455\n",
            "           1       0.76      0.77      0.76       383\n",
            "\n",
            "    accuracy                           0.78       838\n",
            "   macro avg       0.78      0.78      0.78       838\n",
            "weighted avg       0.78      0.78      0.78       838\n",
            "\n",
            "Accuracy: 0.7828162291169452\n",
            "\n",
            "\n",
            "\n",
            "Model Performance  StackingClassifier(cv=5,\n",
            "                   estimators=[('rf',\n",
            "                                RandomForestClassifier(n_estimators=207,\n",
            "                                                       random_state=42)),\n",
            "                               ('svm', SVC(C=0.01, kernel='linear')),\n",
            "                               ('lr', LogisticRegression(max_iter=4000))],\n",
            "                   final_estimator=LogisticRegression()) :\n",
            "true negative:  363\n",
            "false negative:  90\n",
            "true positive:  293\n",
            "false positive:  92\n",
            "Classification report:\n",
            "               precision    recall  f1-score   support\n",
            "\n",
            "           0       0.80      0.80      0.80       455\n",
            "           1       0.76      0.77      0.76       383\n",
            "\n",
            "    accuracy                           0.78       838\n",
            "   macro avg       0.78      0.78      0.78       838\n",
            "weighted avg       0.78      0.78      0.78       838\n",
            "\n",
            "Accuracy: 0.7828162291169452\n",
            "\n",
            "\n",
            "\n",
            "\n",
            "\n",
            "\n",
            "stacking 0.7828162291169452\n"
          ]
        }
      ]
    }
  ],
  "metadata": {
    "accelerator": "TPU",
    "colab": {
      "collapsed_sections": [],
      "name": "Stacking_algorithm_AllExam_first_semester.ipynb",
      "provenance": []
    },
    "kernelspec": {
      "display_name": "Python 3",
      "name": "python3"
    },
    "language_info": {
      "name": "python"
    }
  },
  "nbformat": 4,
  "nbformat_minor": 0
}